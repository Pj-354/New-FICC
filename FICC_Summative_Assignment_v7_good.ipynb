{
 "cells": [
  {
   "cell_type": "markdown",
   "metadata": {},
   "source": [
    "### FICC Summative\n"
   ]
  },
  {
   "cell_type": "markdown",
   "metadata": {},
   "source": [
    "### Initial Set-Up\n",
    "\n",
    "    1. Reading in Modules\n",
    "    2. Reading in Data\n",
    "    3. Helper Functions\n",
    "        - array2dataframe : converts numpy arrays to dataframes with columns labelled (easier to read)\n",
    "        "
   ]
  },
  {
   "cell_type": "code",
   "execution_count": 1,
   "metadata": {},
   "outputs": [],
   "source": [
    "import numpy as np \n",
    "import pandas as pd\n",
    "import matplotlib.pyplot as plt\n",
    "from scipy.optimize import minimize"
   ]
  },
  {
   "cell_type": "code",
   "execution_count": 8,
   "metadata": {},
   "outputs": [],
   "source": [
    "#Reading in the Yield Curve Data and Processing it a bit\n",
    "excel_file = pd.read_excel('yieldcurve2024 (1).xlsx', index_col= [0])\n",
    "yield_curve = pd.DataFrame(excel_file.iloc[0,:]) / 100\n",
    "r0 = yield_curve['Yield'].to_numpy()[0]\n",
    "rate_vol = 0.0173\n",
    "log_vol = 0.2142\n",
    "dt = 0.5\n"
   ]
  },
  {
   "cell_type": "code",
   "execution_count": 9,
   "metadata": {},
   "outputs": [],
   "source": [
    "def array2dataframe(array):\n",
    "    df = pd.DataFrame(array)\n",
    "    df.index = [j for j in range(0, array.shape[0])]\n",
    "    df.columns = [i for i in range(0, array.shape[1])]\n",
    "    df.columns.name = 'Period: i'\n",
    "    df.index.name = 'State: j'\n",
    "\n",
    "    return df"
   ]
  },
  {
   "cell_type": "code",
   "execution_count": 10,
   "metadata": {},
   "outputs": [],
   "source": [
    "def ZCB_Value_Tree(binomial_tree, dt = dt, par_value = 100, test=False):\n",
    "    ''' \n",
    "    Creates value tree for a normal ZCB bond using a given binomial interest rate tree\n",
    "    '''\n",
    "    periods = binomial_tree.shape[0]\n",
    "\n",
    "    #Create Empty Value Tree\n",
    "    value_tree = np.zeros((periods +1) **2).reshape((periods +1) , (periods +1))   \n",
    "    #Set Final Layer to Par Value\n",
    "    value_tree[:, -1] = par_value\n",
    "\n",
    "    #Backward Induction Loop\n",
    "    for i in reversed(range(0, periods)):\n",
    "        for j in range(0, i+1):\n",
    "            value_tree[j, i] = 0.5 * (value_tree[j, i+1] + value_tree[j+1, i+1]) * np.exp(-binomial_tree[j, i] * dt)\n",
    "\n",
    "    return value_tree"
   ]
  },
  {
   "cell_type": "markdown",
   "metadata": {},
   "source": [
    "# Mortgages and MBS \n",
    "\n",
    "    These functions compute the value of a fixed-rate mortgage.\n",
    "        - mortgage_value_no_prepay : calculates the value of the mortgage without option to prepay\n",
    "        - mortgage_value_prepay : calculates value of prepay option\n",
    "        - amortisation_schedule : calculates the interest paid, total coupon, and principal/outstanding balance for each period"
   ]
  },
  {
   "cell_type": "markdown",
   "metadata": {},
   "source": [
    "## Constructing MBS [20 + 20 Marks]"
   ]
  },
  {
   "cell_type": "code",
   "execution_count": 41,
   "metadata": {},
   "outputs": [],
   "source": [
    "#Chapter 4 Mortgage Example\n",
    "BDT_Tree_Jan31 = pd.read_csv('Jan31_2000_BDT.csv', index_col = [0]) / 100\n",
    "BDT_Tree_Jan31 = BDT_Tree_Jan31.to_numpy()\n",
    "#mortgage_value_no_prepay(periods = 10, rate = 0.07564, binomial_tree=BDT_Tree_Jan31)\n",
    "#mortgage_value_prepay(periods = 10, rate = 0.07564, binomial_tree=BDT_Tree_Jan31)"
   ]
  },
  {
   "cell_type": "code",
   "execution_count": 33,
   "metadata": {},
   "outputs": [
    {
     "ename": "NameError",
     "evalue": "name 'mortgage_value_no_prepay' is not defined",
     "output_type": "error",
     "traceback": [
      "\u001b[1;31m---------------------------------------------------------------------------\u001b[0m",
      "\u001b[1;31mNameError\u001b[0m                                 Traceback (most recent call last)",
      "Cell \u001b[1;32mIn[33], line 5\u001b[0m\n\u001b[0;32m      3\u001b[0m temp_rates \u001b[38;5;241m=\u001b[39m {}\n\u001b[0;32m      4\u001b[0m \u001b[38;5;28;01mfor\u001b[39;00m rate \u001b[38;5;129;01min\u001b[39;00m rates:\n\u001b[1;32m----> 5\u001b[0m     temp_rates[rate] \u001b[38;5;241m=\u001b[39m \u001b[43mmortgage_value_no_prepay\u001b[49m(rate \u001b[38;5;241m=\u001b[39m rate, periods \u001b[38;5;241m=\u001b[39m \u001b[38;5;241m20\u001b[39m, binomial_tree\u001b[38;5;241m=\u001b[39mBDT_Tree)[\u001b[38;5;241m0\u001b[39m][\u001b[38;5;241m0\u001b[39m,\u001b[38;5;241m0\u001b[39m] \u001b[38;5;241m-\u001b[39m mortgage_value_prepay(rate \u001b[38;5;241m=\u001b[39m rate, periods \u001b[38;5;241m=\u001b[39m \u001b[38;5;241m20\u001b[39m, binomial_tree\u001b[38;5;241m=\u001b[39mBDT_Tree)[\u001b[38;5;241m0\u001b[39m,\u001b[38;5;241m0\u001b[39m]\n\u001b[0;32m      6\u001b[0m     \u001b[38;5;28;01mif\u001b[39;00m temp_rates[rate] \u001b[38;5;241m==\u001b[39m \u001b[38;5;241m100000\u001b[39m:\n\u001b[0;32m      7\u001b[0m         par_rate_BDT \u001b[38;5;241m=\u001b[39m rate\n",
      "\u001b[1;31mNameError\u001b[0m: name 'mortgage_value_no_prepay' is not defined"
     ]
    }
   ],
   "source": [
    "Principal = 100000 \n",
    "rates = np.array([i for i in range(10, 250, 5)]) / 1000\n",
    "temp_rates = {}\n",
    "for rate in rates:\n",
    "    temp_rates[rate] = mortgage_value_no_prepay(rate = rate, periods = 20, binomial_tree=BDT_Tree)[0][0,0] - mortgage_value_prepay(rate = rate, periods = 20, binomial_tree=BDT_Tree)[0,0]\n",
    "    if temp_rates[rate] == 100000:\n",
    "        par_rate_BDT = rate\n",
    "        break\n",
    "\n",
    "rates = np.array([i for i in range(10, 250, 5)]) / 1000\n",
    "temp_rates = {}\n",
    "for rate in rates:\n",
    "    temp_rates[rate] = mortgage_value_no_prepay(rate = rate, periods = 20, binomial_tree=Ho_Lee_Tree)[0][0,0] - mortgage_value_prepay(rate = rate, periods = 20, binomial_tree=Ho_Lee_Tree)[0,0]\n",
    "    if temp_rates[rate] == 100000:\n",
    "        print(rate)\n",
    "        break"
   ]
  },
  {
   "cell_type": "code",
   "execution_count": 95,
   "metadata": {},
   "outputs": [
    {
     "data": {
      "text/plain": [
       "np.float64(2222.6401281549042)"
      ]
     },
     "execution_count": 95,
     "metadata": {},
     "output_type": "execute_result"
    }
   ],
   "source": [
    "mortgage_value_prepay(rate = 0.07564, periods = 10, binomial_tree=BDT_Tree_Jan31)[0][0,0]"
   ]
  },
  {
   "cell_type": "code",
   "execution_count": 96,
   "metadata": {},
   "outputs": [
    {
     "data": {
      "text/plain": [
       "np.float64(102222.6401281549)"
      ]
     },
     "execution_count": 96,
     "metadata": {},
     "output_type": "execute_result"
    }
   ],
   "source": [
    "mortgage_value_no_prepay(rate = 0.07564, periods = 10, binomial_tree=BDT_Tree_Jan31)[0][0,0]"
   ]
  },
  {
   "cell_type": "markdown",
   "metadata": {},
   "source": [
    "### Question B\n",
    "Ho-Lee model's normal distribution, presence of negative interest rates, and smaller probability allocated to higher interest rate states differs from the log-normal, strictly non-negative, and higher interest-rate titled Simple BDT model\n",
    "\n",
    "Because mortgage prepayment embeds an element of optionality into the security, there is an asymmetric payoff structure that will result in differences when comparing the two models. Simple BDT offers a higher price - intuitively, because lower interest rate environments\n",
    "\n",
    "BDT Model gives a 5% fixed rate that yields par whereas Ho-Lee model requires a higher fixed rate of 10.8%."
   ]
  },
  {
   "cell_type": "markdown",
   "metadata": {},
   "source": [
    "## Mortgage Valuation Functions"
   ]
  },
  {
   "cell_type": "code",
   "execution_count": 44,
   "metadata": {},
   "outputs": [],
   "source": [
    "#Mortgage without Prepayment Option\n",
    "def mortgage_value_no_prepay(rate, periods,\n",
    "                             dt = dt,\n",
    "                             principal = 100000,\n",
    "                             binomial_tree=BDT_Tree):\n",
    "    ''' \n",
    "    Pricing Mortgage under HL model => assumes optimal prepayment policy. Use\n",
    "    optimiser/fsolve-based strategy to find the payment rate that gives par/principal\n",
    "    '''\n",
    "    interest_paid, principal_paid, outstanding_principal, coupon = mortgage_amortisation_schedule(rate = rate, periods = periods, principal = principal)\n",
    "    mortgage_tree_no_prepay = np.zeros([periods+1, periods+1])\n",
    "    mortgage_tree_no_prepay[:, -1] = 0\n",
    "    \n",
    "    for i in reversed(range(0, periods)):\n",
    "        for j in range(0, i + 1):\n",
    "            mortgage_tree_no_prepay[j, i] = (interest_paid[i+1] + principal_paid[i+1] + 0.5 *(mortgage_tree_no_prepay[j , i + 1] + mortgage_tree_no_prepay[j+1, i+1])) * np.exp(-binomial_tree[j, i] * dt)\n",
    "\n",
    "    \n",
    "    return mortgage_tree_no_prepay, interest_paid, principal_paid, outstanding_principal, coupon\n",
    "\n",
    "def mortgage_value_prepay(rate,\n",
    "                          periods,\n",
    "                          dt = dt,\n",
    "                          principal = 100000,\n",
    "                          binomial_tree=BDT_Tree):\n",
    "\n",
    "    mortgage_tree_no_prepay, interest_paid, principal_paid, outstanding_principal, coupon = mortgage_value_no_prepay(rate = rate,\n",
    "                                                                                                                        dt = dt, periods = periods,\n",
    "                                                                                                                        principal = principal, binomial_tree=binomial_tree)\n",
    "    Mortgage_Tree_With_Prepay = np.zeros([periods+1, periods+1])\n",
    "    for i in reversed(range(0, periods)):\n",
    "        for j in range(0, i + 1):\n",
    "            #Step 1. From final node we discount backwards \n",
    "            if i == periods -1:\n",
    "                Value_Wait = (0.5 *(mortgage_tree_no_prepay[j , i + 1] + mortgage_tree_no_prepay[j+1, i+1])) * np.exp(-binomial_tree[j, i] * dt)\n",
    "                Value_Exercise = np.maximum(0, mortgage_tree_no_prepay[j,i] - outstanding_principal[i])\n",
    "            #Steps 2 & 3: Discount backwards \n",
    "            if i != periods-1:\n",
    "                #Step 2 : Continuation value => discounted expected value of prior nodes\n",
    "                Value_Wait = (0.5 *(Mortgage_Tree_With_Prepay[j , i + 1] + Mortgage_Tree_With_Prepay[j+1, i+1])) * np.exp(-binomial_tree[j, i] * dt)\n",
    "                #Step 3 : Value of prepaying early => compare how much is left on the contract to what is left principal\n",
    "                Value_Exercise = np.maximum(0, mortgage_tree_no_prepay[j,i] - outstanding_principal[i])\n",
    "            #Step 4 : Check if Exercising is optimal. Assign the optimal decision\n",
    "            if Value_Exercise - Value_Wait > 0:\n",
    "                Mortgage_Tree_With_Prepay[j,i] = np.maximum(Value_Exercise, Value_Wait)\n",
    "            else:\n",
    "                Mortgage_Tree_With_Prepay[j,i] = Value_Wait\n",
    "            \n",
    "    return Mortgage_Tree_With_Prepay, mortgage_tree_no_prepay\n",
    "\n"
   ]
  },
  {
   "cell_type": "code",
   "execution_count": 130,
   "metadata": {},
   "outputs": [],
   "source": [
    "HL_Mortgage_W_Prepay, HL_Mortgage_No_Prepay = mortgage_value_prepay(rate = 0.26, periods = 20, binomial_tree=Ho_Lee_Tree)"
   ]
  },
  {
   "cell_type": "code",
   "execution_count": 131,
   "metadata": {},
   "outputs": [
    {
     "data": {
      "text/plain": [
       "np.float64(100000.0)"
      ]
     },
     "execution_count": 131,
     "metadata": {},
     "output_type": "execute_result"
    }
   ],
   "source": [
    "HL_Mortgage_No_Prepay[0,0] - HL_Mortgage_W_Prepay[0,0]"
   ]
  },
  {
   "cell_type": "code",
   "execution_count": null,
   "metadata": {},
   "outputs": [],
   "source": [
    "- HL_Mortgage_No_Prepay[0,0]"
   ]
  },
  {
   "cell_type": "code",
   "execution_count": 110,
   "metadata": {},
   "outputs": [
    {
     "data": {
      "text/plain": [
       "np.float64(100000.0)"
      ]
     },
     "execution_count": 110,
     "metadata": {},
     "output_type": "execute_result"
    }
   ],
   "source": [
    "mortgage_value_no_prepay(rate=0.05, periods = 20, binomial_tree=BDT_Tree)[0][0,0] - mortgage_value_prepay(rate = 0.05, periods = 20, binomial_tree=BDT_Tree)[0][0,0]"
   ]
  },
  {
   "cell_type": "code",
   "execution_count": 43,
   "metadata": {},
   "outputs": [],
   "source": [
    "def mortgage_amortisation_schedule(rate, periods, principal = 100000):\n",
    "    \n",
    "    period_index = np.array([i for i in range(1,periods+1)])\n",
    "    total_coupon = principal / np.sum(1/(1 + rate/2)**period_index)\n",
    "    outstanding_balance = np.zeros(periods+1) #Starts at i = 0\n",
    "    outstanding_balance[0] = principal\n",
    "    interest_payment_schedule = np.zeros(periods) #Starts at i = 1\n",
    "    principal_payment_schedule = np.zeros(periods) #Starts at i = 1\n",
    "    \n",
    "    for i in range(periods):\n",
    "        interest_payment = outstanding_balance[i] * rate / 2\n",
    "        interest_payment_schedule[i] = interest_payment\n",
    "        \n",
    "        principal_payment = total_coupon - interest_payment\n",
    "        outstanding_balance[i+1] = outstanding_balance[i] - principal_payment\n",
    "        principal_payment_schedule[i] =principal_payment\n",
    "        \n",
    "    #Set the i = 0 to 0 so lengths match (no cash flows at i = 0)\n",
    "    interest_payment_schedule = np.insert(interest_payment_schedule,0,0)\n",
    "    principal_payment_schedule = np.insert(principal_payment_schedule, 0,0)\n",
    "    \n",
    "    return interest_payment_schedule, principal_payment_schedule, outstanding_balance, total_coupon\n"
   ]
  },
  {
   "cell_type": "markdown",
   "metadata": {},
   "source": [
    "## Pass Through Securities"
   ]
  },
  {
   "cell_type": "code",
   "execution_count": 39,
   "metadata": {},
   "outputs": [],
   "source": [
    "def PTS_mortgage_amortisation_schedule(rate, pass_through_rate, N = 20, principal = 100000):\n",
    "    \n",
    "    periods = np.array([i for i in range(1,N+1)])\n",
    "    total_coupon = principal / np.sum(1/(1 + rate/2)**periods)\n",
    "\n",
    "    outstanding_balance = np.zeros(N+1) #Starts at i = 0\n",
    "    outstanding_balance[0] = principal\n",
    "    interest_payment_schedule = np.zeros(N) #Starts at i = 1\n",
    "    interest_payment_schedule_pass_through = np.zeros(N)\n",
    "    principal_payment_schedule = np.zeros(N) #Starts at i = 1\n",
    "    \n",
    "    for i in range(N):\n",
    "        interest_payment_pass_through = outstanding_balance[i] * pass_through_rate/2\n",
    "        interest_payment_schedule_pass_through[i] = interest_payment_pass_through\n",
    "        interest_payment = outstanding_balance[i] * rate / 2\n",
    "        interest_payment_schedule[i] = interest_payment\n",
    "        \n",
    "        principal_payment = total_coupon - interest_payment\n",
    "        outstanding_balance[i+1] = outstanding_balance[i] - principal_payment\n",
    "        principal_payment_schedule[i] =principal_payment\n",
    "    \n",
    "    return interest_payment_schedule_pass_through, principal_payment_schedule, outstanding_balance, total_coupon\n"
   ]
  },
  {
   "cell_type": "code",
   "execution_count": 40,
   "metadata": {},
   "outputs": [],
   "source": [
    "def PTS_Value_Tree(rate, pass_through_rate, dt = dt, periods = 20, principal = 100000, binomial_tree=Ho_Lee_Tree):\n",
    "    \n",
    "    #Read in PTS amortisation schedule\n",
    "    interest_schedule, principal_schedule, outstanding_principal, coupon = PTS_mortgage_amortisation_schedule(rate = \n",
    "        rate, pass_through_rate=pass_through_rate, N = periods, principal = principal)\n",
    "\n",
    "    #Read in Mortgage Tree with no Option to prep\n",
    "\n",
    "    PTS_Tree = np.zeros([periods+1, periods+1])\n",
    "    for i in reversed(range(0, periods)):\n",
    "        for j in range(0, i + 1):\n",
    "            #print('i:', i, principal_schedule[i], outstanding_principal[i], interest_schedule[i])\n",
    "            Value_Wait = (0.5 *(PTS_Tree[j , i + 1] + PTS_Tree[j+1, i+1]) + interest_schedule[i] + principal_schedule[i]) * np.exp(-binomial_tree[j, i] * dt)\n",
    "            PTS_Tree[j,i] = np.minimum(outstanding_principal[i], Value_Wait)\n",
    "            \n",
    "    return PTS_Tree\n",
    "\n",
    "#Test\n",
    "#array2dataframe(PTS_Value_Tree(rate = 0.07564, pass_through_rate=0.07, periods = 10, binomial_tree=BDT_Tree_Jan31))"
   ]
  },
  {
   "cell_type": "code",
   "execution_count": null,
   "metadata": {},
   "outputs": [
    {
     "data": {
      "text/plain": [
       "(np.float64(99579.45773980104), np.float64(99358.86014717523))"
      ]
     },
     "execution_count": 92,
     "metadata": {},
     "output_type": "execute_result"
    }
   ],
   "source": [
    "''' \n",
    "Pricing using HL and BDT produces very similar result. If the notional was $100,000 the difference is under $10\n",
    "    => HL Model : $99,391.50\n",
    "    => BDT Model : $99,358.90\n",
    "'''\n",
    "HL_PTS_Pricing = PTS_Value_Tree(rate = rate_HL_par, pass_through_rate=pass_through_rate_HL, periods = 20, binomial_tree=Ho_Lee_Tree)[0,0]\n",
    "BDT_PTS_Pricing = PTS_Value_Tree(rate = rate_BDT_par, pass_through_rate=pass_through_rate_BDT, periods = 20, binomial_tree=BDT_Tree )[0,0]\n",
    "HL_PTS_Pricing, BDT_PTS_Pricing"
   ]
  },
  {
   "cell_type": "markdown",
   "metadata": {},
   "source": [
    "# Binomial Trees"
   ]
  },
  {
   "cell_type": "markdown",
   "metadata": {},
   "source": [
    "### Building RN Trees"
   ]
  },
  {
   "cell_type": "code",
   "execution_count": 11,
   "metadata": {},
   "outputs": [],
   "source": [
    "def Building_Tree(theta,\n",
    "                  number_of_periods = yield_curve['Yield'].to_numpy().shape[0],\n",
    "                  r0 = r0,\n",
    "                  volatility = rate_vol,\n",
    "                  dt = dt):\n",
    "\n",
    " \n",
    " #Creating Binomial Tree of length i, height i \n",
    " binomial_tree = np.zeros((number_of_periods , number_of_periods))\n",
    " binomial_tree[np.triu_indices(number_of_periods, 0)] = r0\n",
    " \n",
    " #Apply Ho-Lee\n",
    " for i in range(1, number_of_periods): #Time steps from i = 1,2, ... N-1\n",
    "      for j in range(i + 1):      #States from 0 to i \n",
    "            if j == 0:\n",
    "                previous_rate = binomial_tree[j, i-1]\n",
    "                binomial_tree[j , i] = previous_rate + theta[i-1]*dt + volatility*np.sqrt(dt)\n",
    "            else:\n",
    "                previous_rate = binomial_tree[j-1, i-1]\n",
    "                binomial_tree[j, i] = previous_rate + theta[i-1]*dt - volatility*np.sqrt(dt)\n",
    "\n",
    " return binomial_tree"
   ]
  },
  {
   "cell_type": "code",
   "execution_count": 50,
   "metadata": {},
   "outputs": [],
   "source": [
    "def Building_Tree_HL_BDT(theta, pricing_model, volatility,\n",
    "                  number_of_periods = yield_curve['Yield'].to_numpy().shape[0],\n",
    "                  r0 = r0,\n",
    "                  dt = dt):\n",
    "\n",
    " \n",
    " #Creating Binomial Tree of length i, height i \n",
    " binomial_tree = np.zeros((number_of_periods , number_of_periods))\n",
    " \n",
    " if pricing_model == 'HL':\n",
    "        binomial_tree[0,0] = r0\n",
    "        for i in range(1, number_of_periods): #Time steps from i = 1,2, ... N-1\n",
    "            for j in range(i + 1):      #States from 0 to i \n",
    "                if j == 0:\n",
    "                    previous_rate = binomial_tree[j, i-1]\n",
    "                    binomial_tree[j , i] = previous_rate + theta[i-1]*dt + volatility*np.sqrt(dt)\n",
    "                else:\n",
    "                    previous_rate = binomial_tree[j-1, i-1]\n",
    "                    binomial_tree[j, i] = previous_rate + theta[i-1]*dt - volatility*np.sqrt(dt)\n",
    "        return np.triu(binomial_tree)\n",
    " \n",
    " if pricing_model == 'BDT':\n",
    "        binomial_tree[0,0] = np.log(r0)  #Initial interest rate is the log of r0\n",
    "        for i in range(1, number_of_periods): #Same Logic as HL Tree\n",
    "            for j in range(i + 1):\n",
    "                if j == 0:\n",
    "                    previous_rate = binomial_tree[j, i -1]\n",
    "                    binomial_tree[j,i] = previous_rate + theta[i-1] * dt + volatility*np.sqrt(dt)\n",
    "                else:\n",
    "                    previous_rate = binomial_tree[j-1, i-1]\n",
    "                    binomial_tree[j,i] = previous_rate + theta[i-1]*dt - volatility*np.sqrt(dt)\n",
    "        binomial_tree = np.exp(binomial_tree)\n",
    "        return np.triu(binomial_tree)\n",
    "\n"
   ]
  },
  {
   "cell_type": "code",
   "execution_count": 51,
   "metadata": {},
   "outputs": [],
   "source": [
    "def ZCB(yield_curve=yield_curve['Yield'].to_numpy(), dt = dt, periods = 50):\n",
    "     \n",
    "    ZCB_prices = np.zeros(periods)\n",
    "    \n",
    "    for i in range(periods):\n",
    "        discount_factor = np.exp( - yield_curve[i] * (dt*(i+1)))\n",
    "        ZCB_prices[i] = 100.00 * discount_factor\n",
    "    \n",
    "    return ZCB_prices\n"
   ]
  },
  {
   "cell_type": "code",
   "execution_count": 14,
   "metadata": {},
   "outputs": [],
   "source": [
    "def ZCB_Pricing(binomial_tree, dt = dt, par_value = 100, test=False):\n",
    "    ''' \n",
    "    To calibrate Ho-Lee model, we use backward induction to calculate the price of ZCB bonds.\n",
    "    This function will be passed through to an optimiser, we can minimise some loss function by comparing this to the true observed\n",
    "    ZCB prices. This function manually sets the final layer based on the payoff\n",
    "\n",
    "    Risk neutral probabilities uses q = 0.5\n",
    "    Parameters :\n",
    "        1. binomial_tree : Takes in binomial tree from Error Function => Saves time for optimisation\n",
    "                - Binomial Tree is number of periods x number of periods (includes i = 0)\n",
    "                - Value tree should have same dimensions but last period (i = maturity) is pay off\n",
    "        2. theta : theta vector\n",
    "        3. dt : set to 0.5 years\n",
    "        4. par value : $100 ZCB \n",
    "    ----------\n",
    "    Returns ZCB_price : present value of cash flows e.g., price of ZCB bond at t = 0\n",
    "    \n",
    "    '''\n",
    "\n",
    "    Model_Prices = []    \n",
    "\n",
    "    \n",
    "    for _maturity in reversed(range(0, binomial_tree.shape[0])): #Loops through each maturity (starts at N - 1)\n",
    "        #Create Value Tree and set last row to $100\n",
    "        value_tree = np.zeros((_maturity +1) **2).reshape((_maturity +1) , (_maturity +1))                            \n",
    "        #Sets penultimate node for each maturity\n",
    "        a = binomial_tree[:, _maturity]\n",
    "        a = a[a != 0]\n",
    "        value_tree[:,-1] = par_value * np.exp(-a * dt)                      \n",
    "        #Backward Induction : start from final node, go backwards to i = 0 period\n",
    "        for i in range(_maturity-1, -1, -1):\n",
    "\n",
    "            #Only goes up to when i = j (diagonal)\n",
    "            for j in range(i+1): \n",
    "                #Discounted Expected Value of the bond at time i\n",
    "                value_tree[j, i] = 0.5 * (value_tree[j, i+1] + value_tree[j+1, i+1]) * np.exp(-binomial_tree[j, i] * dt)\n",
    "\n",
    "        Model_Prices.append(value_tree[0,0])\n",
    "\n",
    "    Model_Prices.sort(reverse=True)\n",
    "    return (Model_Prices)"
   ]
  },
  {
   "cell_type": "code",
   "execution_count": 54,
   "metadata": {},
   "outputs": [],
   "source": [
    "def Ho_Lee_Model_LossFunction(theta, periods, r0 = r0, volatility = rate_vol, dt = dt, \n",
    "                              yield_curve = yield_curve['Yield'].to_numpy()):\n",
    "    '''  \n",
    "    This calculates the error function between the Ho-lee model (using initial theta values that \n",
    "    are basically random values) and the actual observed ZCB prices calculated from ZCB() function.\n",
    "\n",
    "    The idea is to use this function in tandem with an optimiser that will fit the theta values by\n",
    "    minimising this loss function.\n",
    "\n",
    "    Not the most computationally efficient method but shows the information flow well.\n",
    "\n",
    "    Loss function used is MSE.\n",
    "    Uses the short-rate at time = 0 as an initial value (r0)\n",
    "    '''\n",
    "\n",
    "    #Get all the ZCB Prices that we are fitting to\n",
    "    ZCB_observed = ZCB(yield_curve=yield_curve, periods = periods) \n",
    "    binomial_tree = Building_Tree_HL_BDT(pricing_model='HL', volatility = rate_vol, theta = theta, number_of_periods=periods, r0 = r0)\n",
    "\n",
    "    target_model_price = ZCB_Pricing(binomial_tree = binomial_tree)\n",
    "    Error_SSE = ((target_model_price - ZCB_observed) ** 2).sum()\n",
    "    \n",
    "    return Error_SSE\n",
    "\n",
    "def calibration_HL(yield_curve = yield_curve['Yield'].to_numpy(), periods = 50, sigma = rate_vol, dt = dt, r0 = yield_curve['Yield'].iloc[0]):\n",
    "    ''' \n",
    "    argmin theta vector of norm-2 errors \n",
    "\n",
    "    '''\n",
    "    initial_guess_theta = np.zeros(periods-1) * 0.01\n",
    "\n",
    "    #objective function \n",
    "    def objective_function(theta):\n",
    "        return Ho_Lee_Model_LossFunction(theta=theta, periods = periods, r0 = r0, yield_curve=yield_curve)\n",
    "    \n",
    "    result = minimize(objective_function, initial_guess_theta, method = 'BFGS')\n",
    "    print(result.success, result.message)\n",
    "\n",
    "    theta_calibrated = result.x\n",
    "\n",
    "    return theta_calibrated, result\n"
   ]
  },
  {
   "cell_type": "code",
   "execution_count": 53,
   "metadata": {},
   "outputs": [],
   "source": [
    "def BDT_Model_LossFunction(theta, periods, r0 = r0, volatility = log_vol, dt = dt, \n",
    "                              yield_curve = yield_curve['Yield']):\n",
    "    '''  \n",
    "    This calculates the error function between the Ho-lee model (using initial theta values that \n",
    "    are basically random values) and the actual observed ZCB prices calculated from ZCB() function.\n",
    "\n",
    "    The idea is to use this function in tandem with an optimiser that will fit the theta values by\n",
    "    minimising this loss function.\n",
    "\n",
    "    Not the most computationally efficient method but shows the information flow well.\n",
    "\n",
    "    Loss function used is MSE.\n",
    "    Uses the short-rate at time = 0 as an initial value (r0)\n",
    "    '''\n",
    "\n",
    "    #Get all the ZCB Prices that we are fitting to\n",
    "    ZCB_observed = ZCB(yield_curve=yield_curve, periods = periods) \n",
    "    binomial_tree = Building_Tree_HL_BDT(theta=theta, r0 = r0, number_of_periods=periods, volatility = volatility, pricing_model='BDT')\n",
    "\n",
    "    target_model_price = ZCB_Pricing(binomial_tree = binomial_tree)\n",
    "    Error_SSE = ((target_model_price - ZCB_observed) ** 2).sum()\n",
    "    \n",
    "    return Error_SSE\n",
    "\n",
    "def calibration_BDT(yield_curve = yield_curve['Yield'], periods = 50, sigma = log_vol, dt = dt, r0 = yield_curve['Yield'].iloc[0]):\n",
    "    ''' \n",
    "    argmin theta vector of norm-2 errors \n",
    "\n",
    "    '''\n",
    "    initial_guess_theta = np.zeros(periods-1) * 0.01\n",
    "\n",
    "    #objective function \n",
    "    def objective_function(theta):\n",
    "        return BDT_Model_LossFunction(theta=theta, periods = periods, r0 = r0, yield_curve=yield_curve)\n",
    "    \n",
    "    result = minimize(objective_function, initial_guess_theta, method = 'BFGS')\n",
    "    print(result.success, result.message)\n",
    "\n",
    "    theta_calibrated = result.x\n",
    "\n",
    "    return theta_calibrated, result"
   ]
  },
  {
   "cell_type": "markdown",
   "metadata": {},
   "source": [
    "## Ho Lee & BDT Interest Rate Models"
   ]
  },
  {
   "cell_type": "markdown",
   "metadata": {},
   "source": [
    "### Ho-Lee Calibration"
   ]
  },
  {
   "cell_type": "code",
   "execution_count": 62,
   "metadata": {},
   "outputs": [],
   "source": [
    "''' \n",
    "Ho-Lee Model Calibration results give us this array of theta values. As we can see, the loss function is on the e-\n",
    "\n",
    "'''\n",
    "\n",
    "HL_Thetas_Calibrated = [ 8.42874543e-01, -1.50297530e+00,  4.99974155e-01, -1.42676498e-01,\n",
    "        2.87073443e-01,  2.26725818e-05,  1.43172295e-01,  2.14521037e-01,\n",
    "        3.14714143e-02, -6.10380103e-01, -4.32430837e-01,  5.20117962e-01,\n",
    "        2.85466943e-01,  3.12015500e-01, -2.82835803e-01, -6.28087225e-01,\n",
    "        3.18260602e-01, -2.84991000e-01,  1.28275638e+00, -5.81895399e-01,\n",
    "       -8.21348439e-01, -1.15600909e-01,  1.80214570e+00, -1.43170735e+00,\n",
    "        9.20839288e-01, -1.25321480e+00,  4.26731248e-01,  6.72876663e-01,\n",
    "        4.11822012e-01, -1.65123213e+00,  1.89571143e+00, -1.22074352e+00,\n",
    "        2.41200389e-01,  1.52544027e-01, -3.68912415e-01, -4.77569409e-01,\n",
    "       -1.56273688e-02,  1.22951569e+00, -2.51743077e-01, -1.26980148e+00,\n",
    "        8.01939905e-01,  2.63279903e-01, -8.67795571e-02,  5.65960174e-01,\n",
    "       -1.10450062e+00, -1.83961304e-01,  2.53176489e-01,  5.89514740e-01,\n",
    "        1.77451925e-01]\n"
   ]
  },
  {
   "cell_type": "code",
   "execution_count": 64,
   "metadata": {},
   "outputs": [
    {
     "data": {
      "text/plain": [
       "np.float64(9.719958022313287e-10)"
      ]
     },
     "execution_count": 64,
     "metadata": {},
     "output_type": "execute_result"
    }
   ],
   "source": [
    "#Build Tree\n",
    "Ho_Lee_Tree = Building_Tree_HL_BDT(pricing_model='HL', theta = HL_Thetas_Calibrated, number_of_periods=50, r0 = r0, volatility=rate_vol)\n",
    "\n",
    "\n",
    "#Check Loss Function of HL-Calibrated ZCB Prices\n",
    "Ho_Lee_Model_LossFunction(theta = HL_Thetas_Calibrated, periods = 50, r0 = r0)"
   ]
  },
  {
   "cell_type": "code",
   "execution_count": 59,
   "metadata": {},
   "outputs": [
    {
     "name": "stdout",
     "output_type": "stream",
     "text": [
      "False Desired error not necessarily achieved due to precision loss.\n"
     ]
    }
   ],
   "source": [
    "HL_Calibrated_Thetas, HL_Calibration_Results = calibration_HL()"
   ]
  },
  {
   "cell_type": "code",
   "execution_count": 61,
   "metadata": {},
   "outputs": [
    {
     "data": {
      "text/plain": [
       "array([ 8.42874543e-01, -1.50297530e+00,  4.99974155e-01, -1.42676498e-01,\n",
       "        2.87073443e-01,  2.26725818e-05,  1.43172295e-01,  2.14521037e-01,\n",
       "        3.14714143e-02, -6.10380103e-01, -4.32430837e-01,  5.20117962e-01,\n",
       "        2.85466943e-01,  3.12015500e-01, -2.82835803e-01, -6.28087225e-01,\n",
       "        3.18260602e-01, -2.84991000e-01,  1.28275638e+00, -5.81895399e-01,\n",
       "       -8.21348439e-01, -1.15600909e-01,  1.80214570e+00, -1.43170735e+00,\n",
       "        9.20839288e-01, -1.25321480e+00,  4.26731248e-01,  6.72876663e-01,\n",
       "        4.11822012e-01, -1.65123213e+00,  1.89571143e+00, -1.22074352e+00,\n",
       "        2.41200389e-01,  1.52544027e-01, -3.68912415e-01, -4.77569409e-01,\n",
       "       -1.56273688e-02,  1.22951569e+00, -2.51743077e-01, -1.26980148e+00,\n",
       "        8.01939905e-01,  2.63279903e-01, -8.67795571e-02,  5.65960174e-01,\n",
       "       -1.10450062e+00, -1.83961304e-01,  2.53176489e-01,  5.89514740e-01,\n",
       "        1.77451925e-01])"
      ]
     },
     "execution_count": 61,
     "metadata": {},
     "output_type": "execute_result"
    }
   ],
   "source": [
    "HL_Calibration_Results.x"
   ]
  },
  {
   "cell_type": "markdown",
   "metadata": {},
   "source": [
    "### Simple BDT Calibration"
   ]
  },
  {
   "cell_type": "code",
   "execution_count": 19,
   "metadata": {},
   "outputs": [
    {
     "data": {
      "text/plain": [
       "np.float64(2.8324822955410087e-11)"
      ]
     },
     "execution_count": 19,
     "metadata": {},
     "output_type": "execute_result"
    }
   ],
   "source": [
    "'''\n",
    "Calibration of BDT Tree returns the below theta values. The error function also shows a good fit with an MSE on order of magnitude of ...\n",
    "'''\n",
    "\n",
    "BDT_Calibrated_Thetas = [-0.35166895, -0.12973433, -0.04314289, -0.01995331, -0.01908645,\n",
    "       -0.023834  , -0.05145382,  0.0006386 ,  0.01834071, -0.02568041,\n",
    "       -0.0248346 ,  0.04874259, -0.01129887,  0.07052889,  0.00182588,\n",
    "        0.00292366,  0.00402355,  0.00514153,  0.10679238, -0.0870087 ,\n",
    "        0.11756801, -0.09304293,  0.12812763, -0.0988221 ,  0.13846138,\n",
    "       -0.10437622,  0.14856368, -0.1097322 ,  0.01768505,  0.01877134,\n",
    "        0.01985832,  0.02092173,  0.02197149,  0.02299795, -0.15372942,\n",
    "        0.19492528,  0.02599841, -0.16412195,  0.01490003,  0.21619626,\n",
    "       -0.17494786,  0.01720672,  0.01795217,  0.0186364 ,  0.01934527,\n",
    "        0.02001716,  0.02066254,  0.02130269, -0.2523553 ]\n",
    "\n",
    "\n",
    "BDT_Tree = Building_Tree_HL_BDT(theta = BDT_Calibrated_Thetas, pricing_model='BDT', number_of_periods=50, r0 = r0, volatility=log_vol)\n",
    "\n",
    "BDT_Model_LossFunction(theta=BDT_Calibrated_Thetas, periods = 50, r0 = r0, yield_curve=yield_curve['Yield'].to_numpy())"
   ]
  },
  {
   "cell_type": "code",
   "execution_count": null,
   "metadata": {},
   "outputs": [
    {
     "name": "stdout",
     "output_type": "stream",
     "text": [
      "True Optimization terminated successfully.\n"
     ]
    }
   ],
   "source": [
    "BDT_Calibrated_Thetas, BDT_Results = calibration_BDT(yield_curve=yield_curve['Yield'].to_numpy(), periods = 50, sigma = log_vol, r0 = r0)"
   ]
  },
  {
   "cell_type": "markdown",
   "metadata": {},
   "source": [
    "## Testing (based on Veronsi 2011)\n"
   ]
  },
  {
   "cell_type": "code",
   "execution_count": 20,
   "metadata": {},
   "outputs": [],
   "source": [
    "test_maturity = [i * 0.5 for i in range(1,12)]\n",
    "test_price = [99.1338, 97.8925, 96.1462, 94.1011, 91.7136, 89.2258, 86.8142, 84.5016, 82.1848, 79.7718, 77.4339]\n",
    "test_yields = [1.74, 2.13, 2.62, 3.04, 3.46, 3.80, 4.04, 4.21, 4.36, 4.52, 4.65]\n",
    "test_yields = np.array(test_yields) / 100\n",
    "\n",
    "HL_thetas_Veronsi = [0.015675, 0.021824, 0.014374, 0.017324, 0.007873, 0.000423, -0.000628, 0.004322, 0.009271, 0.001202]\n",
    "BDT_thetas_Veronsi = [0.7182, 0.6916, 0.3348, 0.3379, 0.1182, -0.0230, -0.0438, 0.0455, 0.1281, -0.0126]"
   ]
  },
  {
   "cell_type": "markdown",
   "metadata": {},
   "source": [
    "### Ho Lee & BDT Testing"
   ]
  },
  {
   "cell_type": "code",
   "execution_count": 21,
   "metadata": {},
   "outputs": [
    {
     "data": {
      "text/plain": [
       "[np.float64(99.13377354877926),\n",
       " np.float64(97.8925199386555),\n",
       " np.float64(96.1462252342918),\n",
       " np.float64(94.10115336419449),\n",
       " np.float64(91.71356656896344),\n",
       " np.float64(89.22581300642932),\n",
       " np.float64(86.81421561300095),\n",
       " np.float64(84.50159655485554),\n",
       " np.float64(82.1847992420609),\n",
       " np.float64(79.77181542525089),\n",
       " np.float64(77.43389845384934)]"
      ]
     },
     "execution_count": 21,
     "metadata": {},
     "output_type": "execute_result"
    }
   ],
   "source": [
    "#The ZCB prices on Jan 8 2002 yields by HL model is calibrated\n",
    "ZCB_Pricing(binomial_tree=\n",
    "            Building_Tree_HL_BDT(theta = HL_thetas_Veronsi, r0 = 0.0174, number_of_periods=11,\n",
    "                                 pricing_model='HL', volatility=rate_vol))"
   ]
  },
  {
   "cell_type": "code",
   "execution_count": 22,
   "metadata": {},
   "outputs": [
    {
     "data": {
      "text/plain": [
       "[np.float64(99.13377354877926),\n",
       " np.float64(97.89251115240728),\n",
       " np.float64(96.14619487906887),\n",
       " np.float64(94.10112103555397),\n",
       " np.float64(91.71356114129568),\n",
       " np.float64(89.22581444604727),\n",
       " np.float64(86.8142650682546),\n",
       " np.float64(84.50169495072147),\n",
       " np.float64(82.18495319871649),\n",
       " np.float64(79.77198342904671),\n",
       " np.float64(77.43406589895683)]"
      ]
     },
     "execution_count": 22,
     "metadata": {},
     "output_type": "execute_result"
    }
   ],
   "source": [
    "#Same for BDT\n",
    "ZCB_Pricing(binomial_tree=\n",
    "            Building_Tree_HL_BDT(theta = BDT_thetas_Veronsi, r0 = 0.0174, number_of_periods=11,\n",
    "                                 pricing_model='BDT', volatility=log_vol))"
   ]
  },
  {
   "cell_type": "code",
   "execution_count": 56,
   "metadata": {},
   "outputs": [
    {
     "name": "stdout",
     "output_type": "stream",
     "text": [
      "True Optimization terminated successfully.\n",
      "True Optimization terminated successfully.\n"
     ]
    }
   ],
   "source": [
    "#Optimiser to find Thetas work \n",
    "HL_Veronsi_Calibrated_Thetas, HL_V_Result = calibration_HL(yield_curve=test_yields, periods = 11, r0 = 0.0174 )\n",
    "BDT_Veronsi_Calibrated_Thetas, BDT_V_Result = calibration_BDT(yield_curve=test_yields, periods = 11, r0 = 0.0174)"
   ]
  },
  {
   "cell_type": "code",
   "execution_count": 24,
   "metadata": {},
   "outputs": [
    {
     "data": {
      "text/plain": [
       "np.float64(2.777278530248302e-11)"
      ]
     },
     "execution_count": 24,
     "metadata": {},
     "output_type": "execute_result"
    }
   ],
   "source": [
    "#Error Function (MSE) confirms HL model pricing is accurate\n",
    "Ho_Lee_Model_LossFunction(theta = HL_Veronsi_Calibrated_Thetas, periods = 11, r0 = 0.0174, yield_curve=test_yields)"
   ]
  },
  {
   "cell_type": "code",
   "execution_count": 25,
   "metadata": {},
   "outputs": [
    {
     "data": {
      "text/plain": [
       "np.float64(2.3584272854215594e-12)"
      ]
     },
     "execution_count": 25,
     "metadata": {},
     "output_type": "execute_result"
    }
   ],
   "source": [
    "#Error Function also confirms BDT model is accurate\n",
    "BDT_Model_LossFunction(theta = BDT_Veronsi_Calibrated_Thetas, periods = 11, r0 = 0.0174, volatility = log_vol, yield_curve = test_yields)"
   ]
  },
  {
   "cell_type": "markdown",
   "metadata": {},
   "source": [
    "# Monte Carlo"
   ]
  },
  {
   "cell_type": "markdown",
   "metadata": {},
   "source": [
    "### Interest Rate MC (Qd)"
   ]
  },
  {
   "cell_type": "code",
   "execution_count": 26,
   "metadata": {},
   "outputs": [],
   "source": [
    "N = 100000\n",
    "def monte_carlo_simulation(tree, paths=N):\n",
    "    #Create simulation table (number of periods x number of simulations)\n",
    "    simulation = np.zeros([paths, tree.shape[0]])\n",
    "    #Set the initial node to interest rate at i = 0\n",
    "    simulation[:, 0] = tree[0,0]\n",
    "    #Loop over each simulation\n",
    "    for path in range(0, simulation.shape[0]):\n",
    "        rate = 0\n",
    "        p = 0\n",
    "        counter = 0\n",
    "\n",
    "        for period in range(1, simulation.shape[1]):\n",
    "            p = np.random.rand() #Random engine\n",
    "\n",
    "            if p > 0.5: #Up move \n",
    "                simulation[path, period] = tree[rate, counter + 1]\n",
    "                rate = rate\n",
    "                counter += 1\n",
    "            else:\n",
    "                simulation[path, period] = tree[rate, counter + 1]\n",
    "                rate = rate + 1\n",
    "                counter += 1\n",
    "    \n",
    "    return simulation"
   ]
  },
  {
   "cell_type": "code",
   "execution_count": 27,
   "metadata": {},
   "outputs": [],
   "source": [
    "#BDT Monte Carlo Simulation of Interest Rate Tree\n",
    "MC_BDT = pd.DataFrame(monte_carlo_simulation(tree = BDT_Tree))\n",
    "#Ho-Lee Monte Carlo Simulation of Interest Rate Tree\n",
    "MC_HL = pd.DataFrame(monte_carlo_simulation(tree = Ho_Lee_Tree))\n"
   ]
  },
  {
   "cell_type": "code",
   "execution_count": 28,
   "metadata": {},
   "outputs": [],
   "source": [
    "#Index and Columns\n",
    "MC_BDT.index = np.arange(0, N)\n",
    "MC_BDT.index.name = 'Simulations'\n",
    "MC_BDT.columns.name = 'Period'\n",
    "MC_HL.index = np.arange(0, N)\n",
    "MC_HL.index.name = 'Simulations'\n",
    "MC_HL.columns.name = 'Periods'\n",
    "#Interest Rate Realisations at i = 50\n",
    "MC_BDT_Realisations = MC_BDT.iloc[:, -1]\n",
    "MC_HL_Realisations = MC_HL.iloc[:, -1]"
   ]
  },
  {
   "cell_type": "code",
   "execution_count": 29,
   "metadata": {},
   "outputs": [
    {
     "data": {
      "text/plain": [
       "<Axes: title={'center': 'Monte Carlo Simulation of 100000 Runs'}, xlabel='Interest Rate', ylabel='Number of Occurences'>"
      ]
     },
     "execution_count": 29,
     "metadata": {},
     "output_type": "execute_result"
    },
    {
     "data": {
      "image/png": "[encoded data removed]",
      "text/plain": [
       "<Figure size 1800x1200 with 1 Axes>"
      ]
     },
     "metadata": {},
     "output_type": "display_data"
    }
   ],
   "source": [
    "MC_HL_Realisations.plot.hist(\n",
    "    figsize = (18, 12),\n",
    "    xlabel = 'Interest Rate',\n",
    "    ylabel= 'Number of Occurences',\n",
    "    bins=100,\n",
    "    title = f'Ho-Lee : Monte Carlo Simulation of {N} Runs')\n",
    "\n",
    "MC_BDT_Realisations.plot.hist(\n",
    "    figsize = (18, 12),\n",
    "    xlabel = 'Interest Rate',\n",
    "    ylabel= 'Number of Occurences',\n",
    "    bins=100,\n",
    "    title = f'Monte Carlo Simulation of {N} Runs')"
   ]
  },
  {
   "cell_type": "markdown",
   "metadata": {},
   "source": [
    "### Fixed Mortgage MC (Qe)"
   ]
  },
  {
   "cell_type": "code",
   "execution_count": 40,
   "metadata": {},
   "outputs": [],
   "source": [
    "def monte_carlo_simulation_Mortgage(\n",
    "        mortgage_tree_prepay=BDT_Mortgage_Tree_Prepay_Option,\n",
    "        mortgage_tree_no_prepay = BDT_Mortgage_Tree_NoPrepay,\n",
    "        interest_schedule = interest_paid,\n",
    "        principal_schedule = principal_paid,\n",
    "        interest_rate_tree=BDT_Tree,\n",
    "        balance = outstanding_principal,\n",
    "        paths=100000, dt = dt):\n",
    "    \n",
    "    ''' Discount the mortgage's cash flows which is interest and principal payments (along\n",
    "    with early repayment)\n",
    "    -----------------\n",
    "    interest_schedule : 4th element corresponds to interest paid in 4th period \n",
    "    principal_schedule : same as^^\n",
    "    outstanding_principal : 3rd element corresponds to balance BEFORE i = 3\n",
    "\n",
    "    -----------------\n",
    "    Will need to have 2 simulations - one for the prepay and one for without prepay \n",
    "    for comparison\n",
    "    '''\n",
    "    #Creating initial simulation matrices\n",
    "    periods = mortgage_tree_no_prepay.shape[0]\n",
    "    simulation_no_prepay = np.zeros([paths, periods+1])\n",
    "    simulation_prepay = np.zeros([paths, periods+1])\n",
    "    #Store coefficients => Log-Sum-Exp trick to overcome underflow error\n",
    "    log_discount_factor = np.zeros([paths, periods])\n",
    "\n",
    "    for path in range(paths):\n",
    "        state = 0\n",
    "        log_discount_factor[path, 0] = 0 #log(1) = 0\n",
    "        break_loop = False \n",
    "        for period in range(1, periods): #Loops over periods from i = 0 to T\n",
    "\n",
    "            #Step 1. Random Engine to simulate up or down move\n",
    "            p = np.random.rand()\n",
    "            if p > 0.5: #Up move (j)\n",
    "                pass\n",
    "            else: #Down Move (j + 1)\n",
    "                state = state + 1\n",
    "\n",
    "            \n",
    "            #Step 1. Total Cash Flow of Contract\n",
    "            total_cash_flows = interest_schedule[period] + principal_schedule[period] #Sums total cash flows to be discounted for each period\n",
    "            #Step 2. Calculate and apply discount factor to cash flows up to this period\n",
    "            log_discount_factor[path, period] = log_discount_factor[path, period - 1] - dt*interest_rate_tree[state, period]\n",
    "\n",
    "            #Step 2a. Expontentiate discount factor \n",
    "            simulation_no_prepay[path, period] = total_cash_flows * np.exp(log_discount_factor[path, period])\n",
    " \n",
    "            #Prepayment Option Stuff\n",
    "            mortgage_value = mortgage_tree_prepay[state, period]\n",
    "\n",
    "            #Note : prepayment logic \n",
    "            if break_loop == False:\n",
    "                if mortgage_value == 0:\n",
    "                    break_loop = True\n",
    "                    simulation_prepay[path, period] = balance[period-1] * np.exp(log_discount_factor[path, period])\n",
    "                else:\n",
    "                    simulation_prepay[path, period] = total_cash_flows * np.exp(log_discount_factor[path, period])\n",
    "            \n",
    "\n",
    "    return simulation_no_prepay, simulation_prepay, log_discount_factor\n",
    "    "
   ]
  },
  {
   "cell_type": "code",
   "execution_count": 207,
   "metadata": {},
   "outputs": [],
   "source": [
    "#Running the MC at par rate = 5%\n",
    "N = 100000\n",
    "BDT_Mortgage_Tree_Prepay_Option, BDT_Mortgage_Tree_NoPrepay = mortgage_value_prepay(rate = 0.05, periods = 20 , binomial_tree=BDT_Tree)\n",
    "Bx, interest_paid, principal_paid, outstanding_principal, coupon = mortgage_value_no_prepay(rate = 0.05, periods = 20, binomial_tree=BDT_Tree)\n",
    "sim_no_prepay, sim_prepay, df = monte_carlo_simulation_Mortgage(paths = N)"
   ]
  },
  {
   "cell_type": "code",
   "execution_count": 42,
   "metadata": {},
   "outputs": [
    {
     "data": {
      "text/plain": [
       "np.float64(106224.10614382043)"
      ]
     },
     "execution_count": 42,
     "metadata": {},
     "output_type": "execute_result"
    }
   ],
   "source": [
    "#Analytical Solution via Backward Induction \n",
    "BDT_Mortgage_Tree_NoPrepay[0,0] "
   ]
  },
  {
   "cell_type": "code",
   "execution_count": 202,
   "metadata": {},
   "outputs": [
    {
     "data": {
      "text/plain": [
       "np.float64(106642.19463931749)"
      ]
     },
     "execution_count": 202,
     "metadata": {},
     "output_type": "execute_result"
    }
   ],
   "source": [
    "#MC Result of Mortgage Contract without Prepay Option\n",
    "MC_Sim_Optimal_No_Prepay = np.mean(sim_no_prepay, axis = 0).sum() \n",
    "MC_Sim_Optimal_No_Prepay"
   ]
  },
  {
   "cell_type": "code",
   "execution_count": 204,
   "metadata": {},
   "outputs": [
    {
     "data": {
      "text/plain": [
       "np.float64(6224.106143820434)"
      ]
     },
     "execution_count": 204,
     "metadata": {},
     "output_type": "execute_result"
    }
   ],
   "source": [
    "#Analytical Solution of Prepay Option \n",
    "BDT_Mortgage_Tree_Prepay_Option[0,0]"
   ]
  },
  {
   "cell_type": "code",
   "execution_count": 206,
   "metadata": {},
   "outputs": [
    {
     "data": {
      "text/plain": [
       "np.float64(6637.997680474786)"
      ]
     },
     "execution_count": 206,
     "metadata": {},
     "output_type": "execute_result"
    }
   ],
   "source": [
    "#MC Result of the Value of the Option\n",
    "MC_Sim_Optimal_Option_Value = np.mean(sim_prepay, axis = 0).sum() - 100000\n",
    "MC_Sim_Optimal_Option_Value"
   ]
  },
  {
   "cell_type": "code",
   "execution_count": 203,
   "metadata": {},
   "outputs": [
    {
     "data": {
      "text/plain": [
       "np.float64(-4.196958842701861)"
      ]
     },
     "execution_count": 203,
     "metadata": {},
     "output_type": "execute_result"
    }
   ],
   "source": [
    "#MC Result of the Value of the Fixed Rate Mortgage (we expect this to be par)\n",
    "MC_Sim_Optimal_Contract_Value = np.mean(sim_prepay, axis = 0).sum() - MC_Sim_Optimal_No_Prepay\n",
    "MC_Sim_Optimal_Contract_Value"
   ]
  },
  {
   "cell_type": "code",
   "execution_count": 214,
   "metadata": {},
   "outputs": [
    {
     "name": "stdout",
     "output_type": "stream",
     "text": [
      "Confidence Interval for No Prepay: [np.float64(106640.98455492556), np.float64(106661.5909717505)] \n",
      "Confidence Interval for Prepay:  [np.float64(6607.564731878418), np.float64(6679.641740389037)] \n",
      "Confidence Interval for Overall Contract Value:  [np.float64(33.41982304713747), np.float64(-18.05076863853901)]\n"
     ]
    }
   ],
   "source": [
    "#Confidence Interval of Mortgage Contract (no prepay)\n",
    "SE_Optimal_No_Prepay = np.std(sim_no_prepay) / np.sqrt(N)\n",
    "ConfidenceInterval_Optimal_No_Prepay = [np.mean(sim_no_prepay, axis = 0).sum() - 1.96* SE_Optimal_No_Prepay, np.mean(sim_no_prepay, axis = 0).sum() + 1.96* SE_Optimal_No_Prepay]\n",
    "\n",
    "#Confidence Interval of value of the Option to prepay \n",
    "SE_Optimal_Option = np.std(sim_prepay.sum(axis=1) - 100000) / np.sqrt(N)\n",
    "ConfidenceInterval_Optimal_Option = [np.mean(sim_prepay, axis = 0).sum() - 1.96 * SE_Optimal_Option - 100000, np.mean(sim_prepay, axis = 0).sum() + 1.96 * SE_Optimal_Option - 100000]\n",
    "\n",
    "print('Confidence Interval for No Prepay:', ConfidenceInterval_Optimal_No_Prepay,\n",
    "      '\\nConfidence Interval for Prepay: ', ConfidenceInterval_Optimal_Option,\n",
    "      '\\nConfidence Interval for Overall Contract Value: ', [ConfidenceInterval_Optimal_No_Prepay[i] - ConfidenceInterval_Optimal_Option[i] - 100000 for i in range(2)])\n"
   ]
  },
  {
   "cell_type": "markdown",
   "metadata": {},
   "source": [
    "## Suboptimal Prepayment\n",
    "\n"
   ]
  },
  {
   "cell_type": "code",
   "execution_count": 178,
   "metadata": {},
   "outputs": [],
   "source": [
    "def monte_carlo_suboptimal_prepay(\n",
    "        mortgage_tree_prepay=BDT_Mortgage_Tree_Prepay_Option,\n",
    "        mortgage_tree_no_prepay = BDT_Mortgage_Tree_NoPrepay,\n",
    "        interest_schedule = interest_paid,\n",
    "        principal_schedule = principal_paid,\n",
    "        interest_rate_tree=BDT_Tree,\n",
    "        balance = outstanding_principal,\n",
    "        paths=10000, dt = dt):\n",
    "    \n",
    "    #Creating initial simulation matrices\n",
    "    periods = mortgage_tree_no_prepay.shape[0]\n",
    "    simulation_no_prepay = np.zeros([paths, periods+1])\n",
    "    simulation_prepay = np.zeros([paths, periods+1])\n",
    "    #Store coefficients => Log-Sum-Exp trick to overcome underflow error\n",
    "    log_discount_factor = np.zeros([paths, periods])\n",
    "\n",
    "    for path in range(paths):\n",
    "        state = 0\n",
    "        log_discount_factor[path, 0] = 0 #log(1) = 0\n",
    "        season_index = 1\n",
    "        break_loop = False \n",
    "        for period in range(1, periods): #Loops over periods from i = 0 to T\n",
    "\n",
    "            #Set-up Suboptimal prepayment conditions/rules\n",
    "\n",
    "            Conditional_Prepayment_Rate  = min( 12 * period * dt * 0.2, 0.6)\n",
    "            if period % 2 == 0:\n",
    "                season_index = 2\n",
    "            else:\n",
    "                season_index = 1\n",
    "\n",
    "            probability_prepay = season_index * (1- (1-(0.5*Conditional_Prepayment_Rate))**dt)\n",
    "\n",
    "\n",
    "\n",
    "            #Step 1. Random Engine to simulate up or down move\n",
    "            p = np.random.rand()\n",
    "            if p > 0.5: #Up move (j)\n",
    "                pass\n",
    "            else: #Down Move (j + 1)\n",
    "                state = state + 1\n",
    "\n",
    "            \n",
    "            #Step 1. Total Cash Flow of Contract\n",
    "            total_cash_flows = interest_schedule[period] + principal_schedule[period] #Sums total cash flows to be discounted for each period\n",
    "            #Step 2. Calculate and apply discount factor to cash flows up to this period\n",
    "            log_discount_factor[path, period] = log_discount_factor[path, period - 1] - dt*interest_rate_tree[state, period]\n",
    "\n",
    "            #Step 2a. Expontentiate discount factor \n",
    "            simulation_no_prepay[path, period] = total_cash_flows * np.exp(log_discount_factor[path, period])\n",
    " \n",
    "            #Prepayment Option Stuff\n",
    "            mortgage_value = mortgage_tree_prepay[state, period]\n",
    "\n",
    "            #Note : prepayment logic \n",
    "            if break_loop == False:\n",
    "                if mortgage_value == 0:\n",
    "                    #Set-up Suboptimal non-prepayment conditions/rules\n",
    "                    probability_no_prepay = 1 * np.exp(-0 * interest_rate_tree[state, period])\n",
    "                    #Suboptimal no prepayment\n",
    "                    if p < probability_no_prepay:\n",
    "                        #print(probability_no_prepay, p, 'no prepay')\n",
    "                        break_loop = True\n",
    "                        simulation_prepay[path, period] = balance[period-1] * np.exp(log_discount_factor[path, period])\n",
    "                    else:\n",
    "                        simulation_prepay[path, period] = total_cash_flows * np.exp(log_discount_factor[path, period])\n",
    "                else:\n",
    "                    #Suboptimal Prepayment\n",
    "                    if probability_prepay > p:\n",
    "                        break_loop = True\n",
    "                        #print('probability prepay', p, probability_prepay)\n",
    "                        #simulation_prepay[path, period] = total_cash_flows * np.exp(log_discount_factor[path, period])\n",
    "                        simulation_prepay[path, period] = balance[period -1] * np.exp(log_discount_factor[path, period])\n",
    "                    else:\n",
    "                        simulation_prepay[path, period] = total_cash_flows * np.exp(log_discount_factor[path, period])\n",
    "\n",
    "    return simulation_no_prepay, simulation_prepay, log_discount_factor\n",
    "    "
   ]
  },
  {
   "cell_type": "code",
   "execution_count": 215,
   "metadata": {},
   "outputs": [],
   "source": [
    "N = 100000\n",
    "sim_suboptimal_no_prepay, sim_suboptimal_prepay, sim_suboptimal_df = monte_carlo_suboptimal_prepay(paths = N)"
   ]
  },
  {
   "cell_type": "code",
   "execution_count": 227,
   "metadata": {},
   "outputs": [
    {
     "name": "stdout",
     "output_type": "stream",
     "text": [
      "Confidence Interval for No Prepay: [np.float64(99439.73075608857), np.float64(99652.85774983597)] \n",
      "Confidence Interval for Prepay:  [np.float64(6607.564731878418), np.float64(6679.641740389037)] \n",
      "Confidence Interval for Overall Contract Value:  [np.float64(-7167.83397578985), np.float64(-7026.783990553071)]\n"
     ]
    }
   ],
   "source": [
    "#Value of the fixed rate contract with no option to prepay\n",
    "MC_Sim_Suboptimal_No_Prepay_Value = sim_suboptimal_no_prepay.sum(axis=1).mean()\n",
    "#Value of mortgage contract under suboptimal prepayment assumptions\n",
    "MC_Sim_Suboptimal_Prepay_Value = sim_suboptimal_prepay.sum(axis=1).mean()\n",
    "#Value of the option to prepay under suboptimal prepayment assumptions\n",
    "MC_Sim_Suboptimal_Option_Value = -MC_Sim_Suboptimal_No_Prepay_Value + MC_Sim_Suboptimal_Prepay_Value\n",
    "\n",
    "#Conf. Interval for the Value of Mortgage Contract with Prepayment Option (to UBS)\n",
    "SE_suboptimal_prepay = np.std(sim_suboptimal_prepay) / np.sqrt(N)\n",
    "ConfidenceInterval_suboptimal_prepay = [ MC_Sim_Suboptimal_Prepay_Value- 1.96*SE_suboptimal_prepay, MC_Sim_Suboptimal_Prepay_Value + 1.96*SE_suboptimal_prepay] \n",
    "\n",
    "print('Confidence Interval for No Prepay:', ConfidenceInterval_suboptimal_prepay,\n",
    "      '\\nConfidence Interval for Prepay: ', ConfidenceInterval_Optimal_Option,\n",
    "      '\\nConfidence Interval for Overall Contract Value: ', [ConfidenceInterval_suboptimal_prepay[i] - ConfidenceInterval_Optimal_Option[i] - 100000 for i in range(2)])\n"
   ]
  },
  {
   "cell_type": "markdown",
   "metadata": {},
   "source": [
    "Prepaying and not prepaying despite it being optimal to do so would increase the value of the contract for the bank. If a homeowner decides to prepay despite the remaining principal balance is larger than what it would cost to hold the mortgage decreases the value of the option in their hands, thus increasing the value for UBS. \n",
    "\n",
    "Comparing with optimal refinancing MC simulations, we can compare the value of option under optimal refinancing policy of ~$6,600 which as expected brings the overall contract to par. In comparison, the value of the option under suboptimal refinancing policies is actually negative. This is intuitive, as given the prior values for the optimal case was calculated based on the par rate, any financing policies that is suboptimal would be beneficial for the bank.\n"
   ]
  },
  {
   "cell_type": "code",
   "execution_count": 229,
   "metadata": {},
   "outputs": [
    {
     "data": {
      "text/plain": [
       "np.float64(7042.8900903062895)"
      ]
     },
     "execution_count": 229,
     "metadata": {},
     "output_type": "execute_result"
    }
   ],
   "source": [
    "MC_Sim_Suboptimal_Prepay_Option_Value"
   ]
  },
  {
   "cell_type": "code",
   "execution_count": 230,
   "metadata": {},
   "outputs": [
    {
     "data": {
      "text/plain": [
       "np.float64(99546.29425296227)"
      ]
     },
     "execution_count": 230,
     "metadata": {},
     "output_type": "execute_result"
    }
   ],
   "source": [
    "MC_Sim_Suboptimal_Prepay_Value "
   ]
  },
  {
   "cell_type": "markdown",
   "metadata": {},
   "source": [
    "# MBS with Monte Carlo"
   ]
  },
  {
   "cell_type": "code",
   "execution_count": null,
   "metadata": {},
   "outputs": [],
   "source": []
  }
 ],
 "metadata": {
  "kernelspec": {
   "display_name": "Python 3",
   "language": "python",
   "name": "python3"
  },
  "language_info": {
   "codemirror_mode": {
    "name": "ipython",
    "version": 3
   },
   "file_extension": ".py",
   "mimetype": "text/x-python",
   "name": "python",
   "nbconvert_exporter": "python",
   "pygments_lexer": "ipython3",
   "version": "3.9.6"
  }
 },
 "nbformat": 4,
 "nbformat_minor": 2
}
