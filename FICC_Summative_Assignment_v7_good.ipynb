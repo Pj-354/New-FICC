{
 "cells": [
  {
   "cell_type": "markdown",
   "metadata": {},
   "source": [
    "### FICC Summative\n"
   ]
  },
  {
   "cell_type": "markdown",
   "metadata": {},
   "source": [
    "### Initial Set-Up\n",
    "\n",
    "    1. Reading in Modules\n",
    "    2. Reading in Data\n",
    "    3. Helper Functions\n",
    "        - array2dataframe : converts numpy arrays to dataframes with columns labelled (easier to read)\n",
    "        "
   ]
  },
  {
   "cell_type": "code",
   "execution_count": 48,
   "metadata": {},
   "outputs": [],
   "source": [
    "import numpy as np \n",
    "import pandas as pd\n",
    "import matplotlib.pyplot as plt\n",
    "from scipy.optimize import minimize"
   ]
  },
  {
   "cell_type": "code",
   "execution_count": 49,
   "metadata": {},
   "outputs": [],
   "source": [
    "#Reading in the Yield Curve Data and Processing it a bit\n",
    "excel_file = pd.read_excel('yieldcurve2024 (1).xlsx', index_col= [0])\n",
    "yield_curve = pd.DataFrame(excel_file.iloc[0,:]) / 100\n",
    "yield_curve = yield_curve.iloc[0:20, :]\n",
    "r0 = yield_curve['Yield'].to_numpy()[0]\n",
    "rate_vol = 0.0173\n",
    "log_vol = 0.2142\n",
    "dt = 0.5"
   ]
  },
  {
   "cell_type": "code",
   "execution_count": 50,
   "metadata": {},
   "outputs": [],
   "source": [
    "def array2dataframe(array):\n",
    "    df = pd.DataFrame(array)\n",
    "    df.index = [j for j in range(0, array.shape[0])]\n",
    "    df.columns = [i for i in range(0, array.shape[1])]\n",
    "    df.columns.name = 'Period: i'\n",
    "    df.index.name = 'State: j'\n",
    "\n",
    "    return df"
   ]
  },
  {
   "cell_type": "code",
   "execution_count": 51,
   "metadata": {},
   "outputs": [],
   "source": [
    "def ZCB_Value_Tree(binomial_tree, dt = dt, par_value = 100):\n",
    "    ''' \n",
    "    Creates value tree for a normal ZCB bond using a given binomial interest rate tree\n",
    "    '''\n",
    "    periods = binomial_tree.shape[0]\n",
    "\n",
    "    #Create Empty Value Tree\n",
    "    value_tree = np.zeros((periods +1) **2).reshape((periods +1) , (periods +1))   \n",
    "    #Set Final Layer to Par Value\n",
    "    value_tree[:, -1] = par_value\n",
    "\n",
    "    #Backward Induction Loop\n",
    "    for i in reversed(range(0, periods)):\n",
    "        for j in range(0, i+1):\n",
    "            value_tree[j, i] = 0.5 * (value_tree[j, i+1] + value_tree[j+1, i+1]) * np.exp(-binomial_tree[j, i] * dt)\n",
    "\n",
    "    return value_tree"
   ]
  },
  {
   "cell_type": "markdown",
   "metadata": {},
   "source": [
    "# Mortgages and MBS \n",
    "\n",
    "    These functions compute the value of a fixed-rate mortgage.\n",
    "        - mortgage_value_no_prepay : calculates the value of the mortgage without option to prepay\n",
    "        - mortgage_value_prepay : calculates value of prepay option\n",
    "        - amortisation_schedule : calculates the interest paid, total coupon, and principal/outstanding balance for each period"
   ]
  },
  {
   "cell_type": "markdown",
   "metadata": {},
   "source": [
    "### Chapter 4 Example"
   ]
  },
  {
   "cell_type": "code",
   "execution_count": 235,
   "metadata": {},
   "outputs": [],
   "source": [
    "#Chapter 4 Mortgage Example\n",
    "BDT_Tree_Jan31 = pd.read_csv('Jan31_2000_BDT.csv', index_col = [0]) / 100\n",
    "BDT_Tree_Jan31 = BDT_Tree_Jan31.to_numpy()\n",
    "#mortgage_value_no_prepay(periods = 10, rate = 0.07564, binomial_tree=BDT_Tree_Jan31)\n",
    "#mortgage_value_prepay(periods = 10, rate = 0.07564, binomial_tree=BDT_Tree_Jan31)"
   ]
  },
  {
   "cell_type": "code",
   "execution_count": 276,
   "metadata": {},
   "outputs": [],
   "source": [
    "prepay_mask = array2dataframe(mortgage_value_prepay(rate = 0.07564, periods = 10, binomial_tree=BDT_Tree_Jan31)[2])"
   ]
  },
  {
   "cell_type": "code",
   "execution_count": 247,
   "metadata": {},
   "outputs": [
    {
     "data": {
      "text/html": [
       "<div>\n",
       "<style scoped>\n",
       "    .dataframe tbody tr th:only-of-type {\n",
       "        vertical-align: middle;\n",
       "    }\n",
       "\n",
       "    .dataframe tbody tr th {\n",
       "        vertical-align: top;\n",
       "    }\n",
       "\n",
       "    .dataframe thead th {\n",
       "        text-align: right;\n",
       "    }\n",
       "</style>\n",
       "<table border=\"1\" class=\"dataframe\">\n",
       "  <thead>\n",
       "    <tr style=\"text-align: right;\">\n",
       "      <th>Period: i</th>\n",
       "      <th>0</th>\n",
       "      <th>1</th>\n",
       "      <th>2</th>\n",
       "      <th>3</th>\n",
       "      <th>4</th>\n",
       "      <th>5</th>\n",
       "      <th>6</th>\n",
       "      <th>7</th>\n",
       "      <th>8</th>\n",
       "      <th>9</th>\n",
       "      <th>10</th>\n",
       "    </tr>\n",
       "    <tr>\n",
       "      <th>State: j</th>\n",
       "      <th></th>\n",
       "      <th></th>\n",
       "      <th></th>\n",
       "      <th></th>\n",
       "      <th></th>\n",
       "      <th></th>\n",
       "      <th></th>\n",
       "      <th></th>\n",
       "      <th></th>\n",
       "      <th></th>\n",
       "      <th></th>\n",
       "    </tr>\n",
       "  </thead>\n",
       "  <tbody>\n",
       "    <tr>\n",
       "      <th>0</th>\n",
       "      <td>102222.640128</td>\n",
       "      <td>90816.379695</td>\n",
       "      <td>80007.331533</td>\n",
       "      <td>69642.481997</td>\n",
       "      <td>59614.601627</td>\n",
       "      <td>49836.611582</td>\n",
       "      <td>40215.347374</td>\n",
       "      <td>30549.565054</td>\n",
       "      <td>20912.059785</td>\n",
       "      <td>10791.190547</td>\n",
       "      <td>0.0</td>\n",
       "    </tr>\n",
       "    <tr>\n",
       "      <th>1</th>\n",
       "      <td>0.000000</td>\n",
       "      <td>95316.448761</td>\n",
       "      <td>84165.230865</td>\n",
       "      <td>73362.733346</td>\n",
       "      <td>62823.562533</td>\n",
       "      <td>52481.652197</td>\n",
       "      <td>42261.615592</td>\n",
       "      <td>32005.867346</td>\n",
       "      <td>21763.990665</td>\n",
       "      <td>11142.093143</td>\n",
       "      <td>0.0</td>\n",
       "    </tr>\n",
       "    <tr>\n",
       "      <th>2</th>\n",
       "      <td>0.000000</td>\n",
       "      <td>0.000000</td>\n",
       "      <td>87420.895111</td>\n",
       "      <td>76276.188352</td>\n",
       "      <td>65338.300047</td>\n",
       "      <td>54550.850749</td>\n",
       "      <td>43857.594995</td>\n",
       "      <td>33133.051517</td>\n",
       "      <td>22418.893757</td>\n",
       "      <td>11408.173945</td>\n",
       "      <td>0.0</td>\n",
       "    </tr>\n",
       "    <tr>\n",
       "      <th>3</th>\n",
       "      <td>0.000000</td>\n",
       "      <td>0.000000</td>\n",
       "      <td>0.000000</td>\n",
       "      <td>78528.730993</td>\n",
       "      <td>67280.144349</td>\n",
       "      <td>56145.715586</td>\n",
       "      <td>45084.097384</td>\n",
       "      <td>33999.067073</td>\n",
       "      <td>22916.151493</td>\n",
       "      <td>11608.993636</td>\n",
       "      <td>0.0</td>\n",
       "    </tr>\n",
       "    <tr>\n",
       "      <th>4</th>\n",
       "      <td>0.000000</td>\n",
       "      <td>0.000000</td>\n",
       "      <td>0.000000</td>\n",
       "      <td>0.000000</td>\n",
       "      <td>68759.182819</td>\n",
       "      <td>57360.697897</td>\n",
       "      <td>46016.155376</td>\n",
       "      <td>34654.010022</td>\n",
       "      <td>23292.538033</td>\n",
       "      <td>11759.719747</td>\n",
       "      <td>0.0</td>\n",
       "    </tr>\n",
       "    <tr>\n",
       "      <th>5</th>\n",
       "      <td>0.000000</td>\n",
       "      <td>0.000000</td>\n",
       "      <td>0.000000</td>\n",
       "      <td>0.000000</td>\n",
       "      <td>0.000000</td>\n",
       "      <td>58278.093846</td>\n",
       "      <td>46719.259425</td>\n",
       "      <td>35147.091692</td>\n",
       "      <td>23574.394852</td>\n",
       "      <td>11871.969427</td>\n",
       "      <td>0.0</td>\n",
       "    </tr>\n",
       "    <tr>\n",
       "      <th>6</th>\n",
       "      <td>0.000000</td>\n",
       "      <td>0.000000</td>\n",
       "      <td>0.000000</td>\n",
       "      <td>0.000000</td>\n",
       "      <td>0.000000</td>\n",
       "      <td>0.000000</td>\n",
       "      <td>47248.548874</td>\n",
       "      <td>35516.398798</td>\n",
       "      <td>23784.372273</td>\n",
       "      <td>11955.962539</td>\n",
       "      <td>0.0</td>\n",
       "    </tr>\n",
       "    <tr>\n",
       "      <th>7</th>\n",
       "      <td>0.000000</td>\n",
       "      <td>0.000000</td>\n",
       "      <td>0.000000</td>\n",
       "      <td>0.000000</td>\n",
       "      <td>0.000000</td>\n",
       "      <td>0.000000</td>\n",
       "      <td>0.000000</td>\n",
       "      <td>35792.361014</td>\n",
       "      <td>23941.446308</td>\n",
       "      <td>12017.694570</td>\n",
       "      <td>0.0</td>\n",
       "    </tr>\n",
       "    <tr>\n",
       "      <th>8</th>\n",
       "      <td>0.000000</td>\n",
       "      <td>0.000000</td>\n",
       "      <td>0.000000</td>\n",
       "      <td>0.000000</td>\n",
       "      <td>0.000000</td>\n",
       "      <td>0.000000</td>\n",
       "      <td>0.000000</td>\n",
       "      <td>0.000000</td>\n",
       "      <td>24058.212174</td>\n",
       "      <td>12064.051874</td>\n",
       "      <td>0.0</td>\n",
       "    </tr>\n",
       "    <tr>\n",
       "      <th>9</th>\n",
       "      <td>0.000000</td>\n",
       "      <td>0.000000</td>\n",
       "      <td>0.000000</td>\n",
       "      <td>0.000000</td>\n",
       "      <td>0.000000</td>\n",
       "      <td>0.000000</td>\n",
       "      <td>0.000000</td>\n",
       "      <td>0.000000</td>\n",
       "      <td>0.000000</td>\n",
       "      <td>12098.483464</td>\n",
       "      <td>0.0</td>\n",
       "    </tr>\n",
       "    <tr>\n",
       "      <th>10</th>\n",
       "      <td>0.000000</td>\n",
       "      <td>0.000000</td>\n",
       "      <td>0.000000</td>\n",
       "      <td>0.000000</td>\n",
       "      <td>0.000000</td>\n",
       "      <td>0.000000</td>\n",
       "      <td>0.000000</td>\n",
       "      <td>0.000000</td>\n",
       "      <td>0.000000</td>\n",
       "      <td>0.000000</td>\n",
       "      <td>0.0</td>\n",
       "    </tr>\n",
       "  </tbody>\n",
       "</table>\n",
       "</div>"
      ],
      "text/plain": [
       "Period: i             0             1             2             3   \\\n",
       "State: j                                                             \n",
       "0          102222.640128  90816.379695  80007.331533  69642.481997   \n",
       "1               0.000000  95316.448761  84165.230865  73362.733346   \n",
       "2               0.000000      0.000000  87420.895111  76276.188352   \n",
       "3               0.000000      0.000000      0.000000  78528.730993   \n",
       "4               0.000000      0.000000      0.000000      0.000000   \n",
       "5               0.000000      0.000000      0.000000      0.000000   \n",
       "6               0.000000      0.000000      0.000000      0.000000   \n",
       "7               0.000000      0.000000      0.000000      0.000000   \n",
       "8               0.000000      0.000000      0.000000      0.000000   \n",
       "9               0.000000      0.000000      0.000000      0.000000   \n",
       "10              0.000000      0.000000      0.000000      0.000000   \n",
       "\n",
       "Period: i            4             5             6             7   \\\n",
       "State: j                                                            \n",
       "0          59614.601627  49836.611582  40215.347374  30549.565054   \n",
       "1          62823.562533  52481.652197  42261.615592  32005.867346   \n",
       "2          65338.300047  54550.850749  43857.594995  33133.051517   \n",
       "3          67280.144349  56145.715586  45084.097384  33999.067073   \n",
       "4          68759.182819  57360.697897  46016.155376  34654.010022   \n",
       "5              0.000000  58278.093846  46719.259425  35147.091692   \n",
       "6              0.000000      0.000000  47248.548874  35516.398798   \n",
       "7              0.000000      0.000000      0.000000  35792.361014   \n",
       "8              0.000000      0.000000      0.000000      0.000000   \n",
       "9              0.000000      0.000000      0.000000      0.000000   \n",
       "10             0.000000      0.000000      0.000000      0.000000   \n",
       "\n",
       "Period: i            8             9    10  \n",
       "State: j                                    \n",
       "0          20912.059785  10791.190547  0.0  \n",
       "1          21763.990665  11142.093143  0.0  \n",
       "2          22418.893757  11408.173945  0.0  \n",
       "3          22916.151493  11608.993636  0.0  \n",
       "4          23292.538033  11759.719747  0.0  \n",
       "5          23574.394852  11871.969427  0.0  \n",
       "6          23784.372273  11955.962539  0.0  \n",
       "7          23941.446308  12017.694570  0.0  \n",
       "8          24058.212174  12064.051874  0.0  \n",
       "9              0.000000  12098.483464  0.0  \n",
       "10             0.000000      0.000000  0.0  "
      ]
     },
     "execution_count": 247,
     "metadata": {},
     "output_type": "execute_result"
    }
   ],
   "source": [
    "array2dataframe(mortgage_value_no_prepay(rate = 0.07564, periods = 10, binomial_tree=BDT_Tree_Jan31)[0])"
   ]
  },
  {
   "cell_type": "markdown",
   "metadata": {},
   "source": [
    "# Mortgage Valuation \n"
   ]
  },
  {
   "cell_type": "markdown",
   "metadata": {},
   "source": [
    "## Fixed Rate Mortgages"
   ]
  },
  {
   "cell_type": "code",
   "execution_count": 41,
   "metadata": {},
   "outputs": [],
   "source": [
    "def mortgage_amortisation_schedule(rate, periods, principal = 100000):\n",
    "    \n",
    "    period_index = np.array([i for i in range(1,periods+1)])\n",
    "    total_coupon = principal / np.sum(1/(1 + rate/2)**period_index)\n",
    "    outstanding_balance = np.zeros(periods+1) #Starts at i = 0\n",
    "    outstanding_balance[0] = principal\n",
    "    interest_payment_schedule = np.zeros(periods) #Starts at i = 1\n",
    "    principal_payment_schedule = np.zeros(periods) #Starts at i = 1\n",
    "    \n",
    "    for i in range(periods):\n",
    "        interest_payment = outstanding_balance[i] * rate / 2\n",
    "        interest_payment_schedule[i] = interest_payment\n",
    "        \n",
    "        principal_payment = total_coupon - interest_payment\n",
    "        outstanding_balance[i+1] = outstanding_balance[i] - principal_payment\n",
    "        principal_payment_schedule[i] =principal_payment\n",
    "        \n",
    "    #Set the i = 0 to 0 so lengths match (no cash flows at i = 0)\n",
    "    interest_payment_schedule = np.insert(interest_payment_schedule,0,0)\n",
    "    principal_payment_schedule = np.insert(principal_payment_schedule, 0,0)\n",
    "    \n",
    "    return interest_payment_schedule, principal_payment_schedule, outstanding_balance, total_coupon"
   ]
  },
  {
   "cell_type": "code",
   "execution_count": 253,
   "metadata": {},
   "outputs": [],
   "source": [
    "#Mortgage without Prepayment Option\n",
    "def mortgage_value_no_prepay(rate, periods,\n",
    "                             dt = dt,\n",
    "                             principal = 100000,\n",
    "                             binomial_tree=BDT_Tree):\n",
    "    ''' \n",
    "    Pricing Mortgage under HL model => assumes optimal prepayment policy. Use\n",
    "    optimiser/fsolve-based strategy to find the payment rate that gives par/principal\n",
    "    '''\n",
    "    interest_paid, principal_paid, outstanding_principal, coupon = mortgage_amortisation_schedule(rate = rate, periods = periods, principal = principal)\n",
    "    mortgage_tree_no_prepay = np.zeros([periods+1, periods+1])\n",
    "    mortgage_tree_no_prepay[:, -1] = 0\n",
    "    \n",
    "    for i in reversed(range(0, periods)):\n",
    "        for j in range(0, i + 1):\n",
    "            mortgage_tree_no_prepay[j, i] = (interest_paid[i+1] + principal_paid[i+1] + 0.5 *(mortgage_tree_no_prepay[j , i + 1] + mortgage_tree_no_prepay[j+1, i+1])) * np.exp(-binomial_tree[j, i] * dt)\n",
    "\n",
    "    \n",
    "    return mortgage_tree_no_prepay, interest_paid, principal_paid, outstanding_principal, coupon\n",
    "\n",
    "def mortgage_value_prepay(rate,\n",
    "                          periods,\n",
    "                          dt = dt,\n",
    "                          principal = 100000,\n",
    "                          binomial_tree=BDT_Tree):\n",
    "\n",
    "    mortgage_tree_no_prepay, interest_paid, principal_paid, outstanding_principal, coupon = mortgage_value_no_prepay(rate = rate,\n",
    "                                                                                                                        dt = dt, periods = periods,\n",
    "                                                                                      principal = principal, binomial_tree=binomial_tree)\n",
    "    Mortgage_Tree_With_Prepay = np.zeros([periods+1, periods+1])\n",
    "    Prepayment_Logic = np.zeros([periods +1, periods + 1])\n",
    "    for i in reversed(range(0, periods)):\n",
    "        for j in range(0, i + 1):\n",
    "            #Step 1. From final node we discount backwards \n",
    "            if i == periods -1:\n",
    "                Value_Wait = (0.5 *(mortgage_tree_no_prepay[j , i + 1] + mortgage_tree_no_prepay[j+1, i+1])) * np.exp(-binomial_tree[j, i] * dt)\n",
    "                Value_Exercise = np.maximum(0, mortgage_tree_no_prepay[j,i] - outstanding_principal[i])\n",
    "            #Steps 2 & 3: Discount backwards \n",
    "            if i != periods-1:\n",
    "                #Step 2 : Continuation value => discounted expected value of prior nodes\n",
    "                Value_Wait = (0.5 *(Mortgage_Tree_With_Prepay[j , i + 1] + Mortgage_Tree_With_Prepay[j+1, i+1])) * np.exp(-binomial_tree[j, i] * dt)\n",
    "                #Step 3 : Value of prepaying early => compare how much is left on the contract to what is left principal\n",
    "                Value_Exercise = np.maximum(0, mortgage_tree_no_prepay[j,i] - outstanding_principal[i])\n",
    "            #Step 4 : Check if Exercising is optimal. Assign the optimal decision\n",
    "            if Value_Exercise - Value_Wait > 0:\n",
    "                Mortgage_Tree_With_Prepay[j,i] = np.maximum(Value_Exercise, Value_Wait)\n",
    "                Prepayment_Logic[j,i] = 1\n",
    "            else:\n",
    "                Mortgage_Tree_With_Prepay[j,i] = Value_Wait\n",
    "            \n",
    "    return Mortgage_Tree_With_Prepay, mortgage_tree_no_prepay, Prepayment_Logic\n"
   ]
  },
  {
   "cell_type": "markdown",
   "metadata": {},
   "source": [
    "### Par Rates (Question B)"
   ]
  },
  {
   "cell_type": "markdown",
   "metadata": {},
   "source": [
    "\n",
    "Ho-Lee model's normal distribution, presence of negative interest rates, and smaller probability allocated to higher interest rate states differs from the log-normal, strictly non-negative, and higher interest-rate titled Simple BDT model\n",
    "\n",
    "Because mortgage prepayment embeds an element of optionality into the security, there is an asymmetric payoff structure that will result in differences when comparing the two models. Simple BDT offers a higher price - intuitively, because lower interest rate environments\n",
    "\n",
    "BDT Model gives a roughly 5% fixed rate that yields par whereas Ho-Lee model requires a higher fixed rate of roughly 6%."
   ]
  },
  {
   "cell_type": "code",
   "execution_count": 107,
   "metadata": {},
   "outputs": [
    {
     "name": "stdout",
     "output_type": "stream",
     "text": [
      "Break even fixed mortgage rate: 0.05964%\n",
      "Value of Fixed Rate Contract with No Option to Prepay :  111305.51 \n",
      "Value of Mortgage Contract Optionality: 11305.51\n"
     ]
    }
   ],
   "source": [
    "#HL Par Rate\n",
    "par_rates = np.arange(0.055, 0.065, 0.00001)\n",
    "value_rates_HL = {}\n",
    "for par_rate in par_rates:\n",
    "    value_rates_HL[par_rate] = mortgage_value_prepay(rate = par_rate, binomial_tree=Ho_Lee_Tree, periods = 20)[1][0,0] - mortgage_value_prepay(rate = par_rate, binomial_tree=Ho_Lee_Tree, periods = 20)[0][0,0]\n",
    "    if value_rates_HL[par_rate] == 100000:\n",
    "        HL_Par_Rate = par_rate\n",
    "        print(f'Break even fixed mortgage rate: {par_rate.round(5)}%')\n",
    "        break\n",
    "\n",
    "print('Value of Fixed Rate Contract with No Option to Prepay : ', mortgage_value_prepay(rate = 0.06, binomial_tree=Ho_Lee_Tree, periods = 20)[1][0,0].round(2),\n",
    "'\\nValue of Mortgage Contract Optionality:', mortgage_value_prepay(rate = 0.06, binomial_tree=Ho_Lee_Tree, periods = 20)[0][0,0].round(2))"
   ]
  },
  {
   "cell_type": "code",
   "execution_count": 108,
   "metadata": {},
   "outputs": [
    {
     "data": {
      "text/plain": [
       "np.float64(100000.0)"
      ]
     },
     "execution_count": 108,
     "metadata": {},
     "output_type": "execute_result"
    }
   ],
   "source": [
    "HL_Mortgage_W_Prepay, HL_Mortgage_No_Prepay = mortgage_value_prepay(rate = HL_Par_Rate, periods = 20, binomial_tree=Ho_Lee_Tree)\n",
    "HL_Mortgage_No_Prepay[0,0] - HL_Mortgage_W_Prepay[0,0]"
   ]
  },
  {
   "cell_type": "code",
   "execution_count": 116,
   "metadata": {},
   "outputs": [
    {
     "name": "stdout",
     "output_type": "stream",
     "text": [
      "Break even fixed mortgage rate: 0.04996%\n",
      "Value of Fixed Rate Contract with No Option to Prepay :  106204.04 \n",
      "Value of Mortgage Contract Optionality: 6204.04\n"
     ]
    }
   ],
   "source": [
    "#BDT Par Rate\n",
    "par_rates = np.arange(0.045, 0.055, 0.00001)\n",
    "value_rates_BDT = {}\n",
    "for par_rate in par_rates:\n",
    "    value_rates_HL[par_rate] = mortgage_value_prepay(rate = par_rate, binomial_tree=BDT_Tree, periods = 20)[1][0,0] - mortgage_value_prepay(rate = par_rate, binomial_tree=BDT_Tree, periods = 20)[0][0,0]\n",
    "    if value_rates_HL[par_rate] == 100000:\n",
    "        BDT_Par_Rate = par_rate\n",
    "        print(f'Break even fixed mortgage rate: {par_rate.round(5)}%')\n",
    "        break\n",
    "\n",
    "print('Value of Fixed Rate Contract with No Option to Prepay : ', mortgage_value_prepay(rate = BDT_Par_Rate, binomial_tree=BDT_Tree, periods = 20)[1][0,0].round(2),\n",
    "'\\nValue of Mortgage Contract Optionality:', mortgage_value_prepay(rate = BDT_Par_Rate, binomial_tree=BDT_Tree, periods = 20)[0][0,0].round(2))"
   ]
  },
  {
   "cell_type": "code",
   "execution_count": 115,
   "metadata": {},
   "outputs": [
    {
     "data": {
      "text/plain": [
       "np.float64(100000.0)"
      ]
     },
     "execution_count": 115,
     "metadata": {},
     "output_type": "execute_result"
    }
   ],
   "source": [
    "BDT_Mortgage_W_Prepay, BDT_Mortgage_No_Prepay = mortgage_value_prepay(rate = BDT_Par_Rate, periods = 20, binomial_tree=BDT_Tree)\n",
    "BDT_Mortgage_No_Prepay[0,0] - BDT_Mortgage_W_Prepay[0,0]"
   ]
  },
  {
   "cell_type": "markdown",
   "metadata": {},
   "source": [
    "## Pass Through Securities"
   ]
  },
  {
   "cell_type": "code",
   "execution_count": 316,
   "metadata": {},
   "outputs": [],
   "source": [
    "def PTS_mortgage_amortisation_schedule(rate, pass_through_rate, N = 20, principal = 100000):\n",
    "    \n",
    "    #Builds the New Amortisation Schedules \n",
    "    periods = np.array([i for i in range(1,N+1)])\n",
    "    #Calculate Coupon\n",
    "    total_coupon = principal / np.sum(1/(1 + rate/2)**periods)\n",
    "    #Outstanding Balance - first value is initial principal\n",
    "    outstanding_balance = np.zeros(N+1) #Starts at i = 0\n",
    "    outstanding_balance[0] = principal\n",
    "    #Interest and PTS Interest Schedules Set-Up\n",
    "    interest_payment_schedule = np.zeros(N) #Starts at i = 1\n",
    "    interest_payment_schedule_pass_through = np.zeros(N)\n",
    "    #Principal Schedule Set-Up\n",
    "    principal_payment_schedule = np.zeros(N) #Starts at i = 1\n",
    "    \n",
    "    for i in range(N):\n",
    "        #Interest Payments at PTS Rate\n",
    "        interest_payment_pass_through = outstanding_balance[i] * pass_through_rate/2\n",
    "        interest_payment_schedule_pass_through[i] = interest_payment_pass_through\n",
    "        #Interest Payments at Fixed Rate\n",
    "        interest_payment = outstanding_balance[i] * rate / 2\n",
    "        interest_payment_schedule[i] = interest_payment\n",
    "        #Principal Payment is based on fixed interest rate payments\n",
    "        principal_payment = total_coupon - interest_payment\n",
    "        #Same for Outstanding Balance\n",
    "        outstanding_balance[i+1] = outstanding_balance[i] - principal_payment\n",
    "        principal_payment_schedule[i] = principal_payment\n",
    "    interest_payment_schedule_pass_through = np.insert(interest_payment_schedule_pass_through, 0, 0)\n",
    "    principal_payment_schedule = np.insert(principal_payment_schedule, 0,0)\n",
    "    outstanding_balance[-1] = 0\n",
    "    \n",
    "    return interest_payment_schedule_pass_through, principal_payment_schedule, outstanding_balance, total_coupon\n"
   ]
  },
  {
   "cell_type": "code",
   "execution_count": 296,
   "metadata": {},
   "outputs": [],
   "source": [
    "def PTS_Value_Tree(rate, pass_through_rate, dt = dt, periods = 20, principal = 100000, binomial_tree=Ho_Lee_Tree):\n",
    "    \n",
    "    #Read in PTS amortisation schedule\n",
    "    interest_schedule, principal_schedule, outstanding_principal, coupon = PTS_mortgage_amortisation_schedule(rate = \n",
    "        rate, pass_through_rate=pass_through_rate, N = periods, principal = principal)\n",
    "    #Create Trees for PTS, IO, PO\n",
    "    PTS_Tree = np.zeros([periods+1, periods+1])\n",
    "    IO_Tree = np.zeros([periods + 1, periods + 1])\n",
    "    PO_Tree = np.zeros([periods+1, periods +1])\n",
    "    #Mortgage Tree to get Prepayment Logic via a Prepayment Boolean Mask\n",
    "    Prepayment_Logic = mortgage_value_prepay(rate = rate, binomial_tree=binomial_tree, periods = periods)[2]\n",
    "    for i in reversed(range(0, periods)):\n",
    "        for j in range(0, i + 1):\n",
    "            #PTS Valuation \n",
    "            Value_Wait = (0.5 *(PTS_Tree[j , i + 1] + PTS_Tree[j+1, i+1]) + interest_schedule[i+1] + principal_schedule[i+1]) * np.exp(-binomial_tree[j, i] * dt)\n",
    "            PTS_Tree[j,i] = np.minimum(outstanding_principal[i], Value_Wait)\n",
    "\n",
    "            #When Prepayment Occurs \n",
    "            if Prepayment_Logic[j,i] == 1 and i != 0 and j != 0:\n",
    "                #IO Strip receives no more cash flows so its value at that node = 0\n",
    "                IO_Tree[j,i] = 0\n",
    "                #PO Strip receives only principal and nothing else anymore\n",
    "                PO_Tree[j,i] = outstanding_principal[i]\n",
    "            else:\n",
    "                #IO Strip and PO Strip are discounted expected values of prior nodes + CFs\n",
    "                PO_Tree[j,i] = (0.5*(PO_Tree[j,i+1] + PO_Tree[j+1, i+1]) + principal_schedule[i+1]) * np.exp(binomial_tree[j,i] * - dt)\n",
    "                IO_Tree[j,i] = (0.5*(IO_Tree[j, i +1] + IO_Tree[j+1, i+1]) + interest_schedule[i+1]) * np.exp(-binomial_tree[j, i] * dt)\n",
    "\n",
    "    return PTS_Tree, IO_Tree, PO_Tree\n",
    "\n",
    "#Test\n",
    "test_PTS, test_IO, test_PO = PTS_Value_Tree(rate = 0.07564, pass_through_rate=0.07, periods=10, binomial_tree=BDT_Tree_Jan31)"
   ]
  },
  {
   "cell_type": "code",
   "execution_count": 310,
   "metadata": {},
   "outputs": [
    {
     "name": "stdout",
     "output_type": "stream",
     "text": [
      "Pass Through Rates : HL PTS Rate = 0.05464% \n",
      "BDT PTS Rate = 0.04496%\n"
     ]
    }
   ],
   "source": [
    "''' \n",
    "Pricing using HL and BDT produces very similar result. If the notional was $100,000 the difference is under $10\n",
    "    => HL Model : $\n",
    "    => BDT Model : $\n",
    "'''\n",
    "HL_PTS_Rate = HL_Par_Rate - 0.005\n",
    "BDT_PTS_Rate = BDT_Par_Rate - 0.005\n",
    "HL_PTS_Pricing, HL_IO_Price, HL_PO_Price = PTS_Value_Tree(rate = HL_Par_Rate, pass_through_rate=HL_PTS_Rate, periods = 20, binomial_tree=Ho_Lee_Tree)\n",
    "BDT_PTS_Pricing, BDT_IO_Price, BDT_PO_Price = PTS_Value_Tree(rate = BDT_Par_Rate, pass_through_rate=BDT_PTS_Rate, periods = 20, binomial_tree=BDT_Tree)\n",
    "print(f'Pass Through Rates : HL PTS Rate = {HL_PTS_Rate.round(5)}%', f'\\nBDT PTS Rate = {BDT_PTS_Rate.round(5)}%')"
   ]
  },
  {
   "cell_type": "code",
   "execution_count": 311,
   "metadata": {},
   "outputs": [
    {
     "name": "stdout",
     "output_type": "stream",
     "text": [
      "HL Tree: 99325.33 and BDT Tree:99353.57\n",
      "HL Tree: 7203.09 and BDT Tree:5537.74\n",
      "HL Tree: 92138.88 and BDT Tree:93846.89\n"
     ]
    }
   ],
   "source": [
    "\n",
    "#Price of PTS Under Both Trees\n",
    "print(f'HL Tree: {HL_PTS_Pricing[0,0].round(2)} and BDT Tree:{BDT_PTS_Pricing[0,0].round(2)}')\n",
    "\n",
    "#Price of IO Strips Under Both Trees\n",
    "print(f'HL Tree: {HL_IO_Price[0,0].round(2)} and BDT Tree:{BDT_IO_Price[0,0].round(2)}')\n",
    "\n",
    "#Price of PO Strip under Both Trees\n",
    "print(f'HL Tree: {HL_PO_Price[0,0].round(2)} and BDT Tree:{BDT_PO_Price[0,0].round(2)}')\n"
   ]
  },
  {
   "cell_type": "markdown",
   "metadata": {},
   "source": [
    "## Building RN Trees"
   ]
  },
  {
   "cell_type": "code",
   "execution_count": 6,
   "metadata": {},
   "outputs": [],
   "source": [
    "def Building_Tree(theta,\n",
    "                  number_of_periods = yield_curve['Yield'].to_numpy().shape[0],\n",
    "                  r0 = r0,\n",
    "                  volatility = rate_vol,\n",
    "                  dt = dt):\n",
    "\n",
    " \n",
    " #Creating Binomial Tree of length i, height i \n",
    " binomial_tree = np.zeros((number_of_periods , number_of_periods))\n",
    " binomial_tree[np.triu_indices(number_of_periods, 0)] = r0\n",
    " \n",
    " #Apply Ho-Lee\n",
    " for i in range(1, number_of_periods): #Time steps from i = 1,2, ... N-1\n",
    "      for j in range(i + 1):      #States from 0 to i \n",
    "            if j == 0:\n",
    "                previous_rate = binomial_tree[j, i-1]\n",
    "                binomial_tree[j , i] = previous_rate + theta[i-1]*dt + volatility*np.sqrt(dt)\n",
    "            else:\n",
    "                previous_rate = binomial_tree[j-1, i-1]\n",
    "                binomial_tree[j, i] = previous_rate + theta[i-1]*dt - volatility*np.sqrt(dt)\n",
    "\n",
    " return binomial_tree"
   ]
  },
  {
   "cell_type": "code",
   "execution_count": 7,
   "metadata": {},
   "outputs": [],
   "source": [
    "def Building_Tree_HL_BDT(theta, pricing_model, volatility,\n",
    "                  number_of_periods = 20,\n",
    "                  r0 = r0,\n",
    "                  dt = dt):\n",
    "\n",
    " \n",
    " #Creating Binomial Tree of length i, height i \n",
    " binomial_tree = np.zeros((number_of_periods , number_of_periods))\n",
    " \n",
    " if pricing_model == 'HL':\n",
    "        binomial_tree[0,0] = r0\n",
    "        for i in range(1, number_of_periods): #Time steps from i = 1,2, ... N-1\n",
    "            for j in range(i + 1):      #States from 0 to i \n",
    "                if j == 0:\n",
    "                    previous_rate = binomial_tree[j, i-1]\n",
    "                    binomial_tree[j , i] = previous_rate + theta[i-1]*dt + volatility*np.sqrt(dt)\n",
    "                else:\n",
    "                    previous_rate = binomial_tree[j-1, i-1]\n",
    "                    binomial_tree[j, i] = previous_rate + theta[i-1]*dt - volatility*np.sqrt(dt)\n",
    "        return np.triu(binomial_tree)\n",
    " \n",
    " if pricing_model == 'BDT':\n",
    "        binomial_tree[0,0] = np.log(r0)  #Initial interest rate is the log of r0\n",
    "        for i in range(1, number_of_periods): #Same Logic as HL Tree\n",
    "            for j in range(i + 1):\n",
    "                if j == 0:\n",
    "                    previous_rate = binomial_tree[j, i -1]\n",
    "                    binomial_tree[j,i] = previous_rate + theta[i-1] * dt + volatility*np.sqrt(dt)\n",
    "                else:\n",
    "                    previous_rate = binomial_tree[j-1, i-1]\n",
    "                    binomial_tree[j,i] = previous_rate + theta[i-1]*dt - volatility*np.sqrt(dt)\n",
    "        binomial_tree = np.exp(binomial_tree)\n",
    "        return np.triu(binomial_tree)\n",
    "\n"
   ]
  },
  {
   "cell_type": "code",
   "execution_count": 8,
   "metadata": {},
   "outputs": [],
   "source": [
    "def ZCB(yield_curve=yield_curve['Yield'].to_numpy(), dt = dt, periods = 20):\n",
    "     \n",
    "    ZCB_prices = np.zeros(periods)\n",
    "    \n",
    "    for i in range(periods):\n",
    "        discount_factor = np.exp( - yield_curve[i] * (dt*(i+1)))\n",
    "        ZCB_prices[i] = 100.00 * discount_factor\n",
    "    \n",
    "    return ZCB_prices\n"
   ]
  },
  {
   "cell_type": "code",
   "execution_count": 9,
   "metadata": {},
   "outputs": [],
   "source": [
    "def ZCB_Pricing(binomial_tree, dt = dt, par_value = 100, test=False):\n",
    "    ''' \n",
    "    To calibrate Ho-Lee model, we use backward induction to calculate the price of ZCB bonds.\n",
    "    This function will be passed through to an optimiser, we can minimise some loss function by comparing this to the true observed\n",
    "    ZCB prices. This function manually sets the final layer based on the payoff\n",
    "\n",
    "    Risk neutral probabilities uses q = 0.5\n",
    "    Parameters :\n",
    "        1. binomial_tree : Takes in binomial tree from Error Function => Saves time for optimisation\n",
    "                - Binomial Tree is number of periods x number of periods (includes i = 0)\n",
    "                - Value tree should have same dimensions but last period (i = maturity) is pay off\n",
    "        2. theta : theta vector\n",
    "        3. dt : set to 0.5 years\n",
    "        4. par value : $100 ZCB \n",
    "    ----------\n",
    "    Returns ZCB_price : present value of cash flows e.g., price of ZCB bond at t = 0\n",
    "    \n",
    "    '''\n",
    "\n",
    "    Model_Prices = []    \n",
    "\n",
    "    \n",
    "    for _maturity in reversed(range(0, binomial_tree.shape[0])): #Loops through each maturity (starts at N - 1)\n",
    "        #Create Value Tree and set last row to $100\n",
    "        value_tree = np.zeros((_maturity +1) **2).reshape((_maturity +1) , (_maturity +1))                            \n",
    "        #Sets penultimate node for each maturity\n",
    "        a = binomial_tree[:, _maturity]\n",
    "        a = a[a != 0]\n",
    "        value_tree[:,-1] = par_value * np.exp(-a * dt)                      \n",
    "        #Backward Induction : start from final node, go backwards to i = 0 period\n",
    "        for i in range(_maturity-1, -1, -1):\n",
    "\n",
    "            #Only goes up to when i = j (diagonal)\n",
    "            for j in range(i+1): \n",
    "                #Discounted Expected Value of the bond at time i\n",
    "                value_tree[j, i] = 0.5 * (value_tree[j, i+1] + value_tree[j+1, i+1]) * np.exp(-binomial_tree[j, i] * dt)\n",
    "\n",
    "        Model_Prices.append(value_tree[0,0])\n",
    "\n",
    "    Model_Prices.sort(reverse=True)\n",
    "    return (Model_Prices)"
   ]
  },
  {
   "cell_type": "code",
   "execution_count": 10,
   "metadata": {},
   "outputs": [],
   "source": [
    "def Ho_Lee_Model_LossFunction(theta, periods = 20, r0 = r0, volatility = rate_vol, dt = dt, \n",
    "                              yield_curve = yield_curve['Yield'].to_numpy()):\n",
    "    '''  \n",
    "    This calculates the error function between the Ho-lee model (using initial theta values that \n",
    "    are basically random values) and the actual observed ZCB prices calculated from ZCB() function.\n",
    "\n",
    "    The idea is to use this function in tandem with an optimiser that will fit the theta values by\n",
    "    minimising this loss function.\n",
    "\n",
    "    Not the most computationally efficient method but shows the information flow well.\n",
    "\n",
    "    Loss function used is MSE.\n",
    "    Uses the short-rate at time = 0 as an initial value (r0)\n",
    "    '''\n",
    "\n",
    "    #Get all the ZCB Prices that we are fitting to\n",
    "    ZCB_observed = ZCB(yield_curve=yield_curve, periods = periods) \n",
    "    binomial_tree = Building_Tree_HL_BDT(pricing_model='HL', volatility = volatility, theta = theta, number_of_periods=periods, r0 = r0)\n",
    "\n",
    "    target_model_price = ZCB_Pricing(binomial_tree = binomial_tree)\n",
    "    Error_SSE = ((target_model_price - ZCB_observed) ** 2).sum()\n",
    "    \n",
    "    return Error_SSE\n",
    "\n",
    "def calibration_HL(yield_curve = yield_curve.to_numpy(), periods = 20, sigma = rate_vol, dt = dt, r0 = r0):\n",
    "    ''' \n",
    "    argmin theta vector of norm-2 errors \n",
    "\n",
    "    '''\n",
    "    initial_guess_theta = np.zeros(periods-1) * 0.01\n",
    "\n",
    "    #objective function \n",
    "    def objective_function(theta):\n",
    "        return Ho_Lee_Model_LossFunction(theta=theta, periods = periods, r0 = r0, yield_curve=yield_curve)\n",
    "    \n",
    "    result = minimize(objective_function, initial_guess_theta, method = 'BFGS')\n",
    "    print(result.success, result.message)\n",
    "\n",
    "    theta_calibrated = result.x\n",
    "\n",
    "    return theta_calibrated, result\n"
   ]
  },
  {
   "cell_type": "code",
   "execution_count": 11,
   "metadata": {},
   "outputs": [],
   "source": [
    "def BDT_Model_LossFunction(theta, periods = 20, r0 = r0, volatility = log_vol, dt = dt, \n",
    "                              yield_curve = yield_curve):\n",
    "    '''  \n",
    "    This calculates the error function between the Ho-lee model (using initial theta values that \n",
    "    are basically random values) and the actual observed ZCB prices calculated from ZCB() function.\n",
    "\n",
    "    The idea is to use this function in tandem with an optimiser that will fit the theta values by\n",
    "    minimising this loss function.\n",
    "\n",
    "    Not the most computationally efficient method but shows the information flow well.\n",
    "\n",
    "    Loss function used is MSE.\n",
    "    Uses the short-rate at time = 0 as an initial value (r0)\n",
    "    '''\n",
    "\n",
    "    #Get all the ZCB Prices that we are fitting to\n",
    "    ZCB_observed = ZCB(yield_curve=yield_curve, periods = periods) \n",
    "    binomial_tree = Building_Tree_HL_BDT(theta=theta, r0 = r0, number_of_periods=periods, volatility = volatility, pricing_model='BDT')\n",
    "\n",
    "    target_model_price = ZCB_Pricing(binomial_tree = binomial_tree)\n",
    "    Error_SSE = ((target_model_price - ZCB_observed) ** 2).sum()\n",
    "    \n",
    "    return Error_SSE\n",
    "\n",
    "def calibration_BDT(yield_curve, periods = 20, sigma = log_vol, dt = dt, r0 = r0):\n",
    "    ''' \n",
    "    argmin theta vector of norm-2 errors \n",
    "\n",
    "    '''\n",
    "    initial_guess_theta = np.zeros(periods-1) * 0.01\n",
    "\n",
    "    #objective function \n",
    "    def objective_function(theta):\n",
    "        return BDT_Model_LossFunction(theta=theta, periods = periods, r0 = r0, yield_curve=yield_curve)\n",
    "    \n",
    "    result = minimize(objective_function, initial_guess_theta, method ='BFGS')\n",
    "    print(result.success, result.message)\n",
    "\n",
    "    theta_calibrated = result.x\n",
    "\n",
    "    return theta_calibrated, result"
   ]
  },
  {
   "cell_type": "markdown",
   "metadata": {},
   "source": [
    "### Ho Lee & BDT Interest Rate Models"
   ]
  },
  {
   "cell_type": "markdown",
   "metadata": {},
   "source": [
    "### Ho-Lee Calibration"
   ]
  },
  {
   "cell_type": "code",
   "execution_count": 25,
   "metadata": {},
   "outputs": [
    {
     "data": {
      "text/plain": [
       "np.float64(2.1225058293122246e-10)"
      ]
     },
     "execution_count": 25,
     "metadata": {},
     "output_type": "execute_result"
    }
   ],
   "source": [
    "''' \n",
    "Ho-Lee Model Calibration results give us this array of theta values. As we can see, the loss function is on the e-\n",
    "\n",
    "'''\n",
    "\n",
    "HL_Calibration_Thetas = [-0.01352538, -0.00377533, -0.00042592,  0.00052368,  0.00067321,\n",
    "        0.00062275, -0.00022782,  0.00172153,  0.00247086,  0.00102001,\n",
    "        0.00116912,  0.00391809,  0.00186691,  0.00501563,  0.00256417,\n",
    "        0.00271257,  0.00286078,  0.00300883,  0.00715665]\n",
    "\n",
    "#Build Tree\n",
    "Ho_Lee_Tree = Building_Tree_HL_BDT(pricing_model='HL', theta = HL_Calibration_Thetas, number_of_periods=20, r0 = r0, volatility=rate_vol)\n",
    "\n",
    "\n",
    "#Check Loss Function of HL-Calibrated ZCB Prices\n",
    "Ho_Lee_Model_LossFunction(theta = HL_Calibration_Thetas, periods = 20, r0 = r0)"
   ]
  },
  {
   "cell_type": "code",
   "execution_count": 23,
   "metadata": {},
   "outputs": [
    {
     "name": "stderr",
     "output_type": "stream",
     "text": [
      "C:\\Users\\Phillip\\AppData\\Local\\Temp\\ipykernel_23300\\2573628831.py:7: DeprecationWarning: Conversion of an array with ndim > 0 to a scalar is deprecated, and will error in future. Ensure you extract a single element from your array before performing this operation. (Deprecated NumPy 1.25.)\n",
      "  ZCB_prices[i] = 100.00 * discount_factor\n"
     ]
    },
    {
     "name": "stdout",
     "output_type": "stream",
     "text": [
      "False Desired error not necessarily achieved due to precision loss.\n"
     ]
    },
    {
     "name": "stderr",
     "output_type": "stream",
     "text": [
      "C:\\Users\\Phillip\\AppData\\Local\\Temp\\ipykernel_23300\\2573628831.py:7: DeprecationWarning: Conversion of an array with ndim > 0 to a scalar is deprecated, and will error in future. Ensure you extract a single element from your array before performing this operation. (Deprecated NumPy 1.25.)\n",
      "  ZCB_prices[i] = 100.00 * discount_factor\n"
     ]
    }
   ],
   "source": [
    "HL_Calibrated_Thetas, HL_Calibration_Results = calibration_HL(periods = 20)"
   ]
  },
  {
   "cell_type": "code",
   "execution_count": 24,
   "metadata": {},
   "outputs": [
    {
     "data": {
      "text/plain": [
       "array([-0.01352538, -0.00377533, -0.00042592,  0.00052368,  0.00067321,\n",
       "        0.00062275, -0.00022782,  0.00172153,  0.00247086,  0.00102001,\n",
       "        0.00116912,  0.00391809,  0.00186691,  0.00501563,  0.00256417,\n",
       "        0.00271257,  0.00286078,  0.00300883,  0.00715665])"
      ]
     },
     "execution_count": 24,
     "metadata": {},
     "output_type": "execute_result"
    }
   ],
   "source": [
    "HL_Calibrated_Thetas"
   ]
  },
  {
   "cell_type": "markdown",
   "metadata": {},
   "source": [
    "### Simple BDT Calibration"
   ]
  },
  {
   "cell_type": "code",
   "execution_count": 17,
   "metadata": {},
   "outputs": [
    {
     "data": {
      "text/plain": [
       "np.float64(5.468836095840122e-12)"
      ]
     },
     "execution_count": 17,
     "metadata": {},
     "output_type": "execute_result"
    }
   ],
   "source": [
    "'''\n",
    "Calibration of BDT Tree returns the below theta values. The error function also shows a good fit with an MSE on order of magnitude of ...\n",
    "'''\n",
    "\n",
    "BDT_Calibrated_Thetas = [-0.35166895, -0.12973433, -0.04314289, -0.01995331, -0.01908645,\n",
    "       -0.023834  , -0.05145382,  0.0006386 ,  0.01834071, -0.02568041,\n",
    "       -0.0248346 ,  0.04874259, -0.01129887,  0.07052889,  0.00182588,\n",
    "        0.00292366,  0.00402355,  0.00514153,  0.10679238, -0.0870087 ,\n",
    "        0.11756801, -0.09304293,  0.12812763, -0.0988221 ,  0.13846138,\n",
    "       -0.10437622,  0.14856368, -0.1097322 ,  0.01768505,  0.01877134,\n",
    "        0.01985832,  0.02092173,  0.02197149,  0.02299795, -0.15372942,\n",
    "        0.19492528,  0.02599841, -0.16412195,  0.01490003,  0.21619626,\n",
    "       -0.17494786,  0.01720672,  0.01795217,  0.0186364 ,  0.01934527,\n",
    "        0.02001716,  0.02066254,  0.02130269, -0.2523553 ]\n",
    "\n",
    "\n",
    "BDT_Tree = Building_Tree_HL_BDT(theta = BDT_Calibrated_Thetas, pricing_model='BDT', number_of_periods=20, r0 = r0, volatility=log_vol)\n",
    "\n",
    "BDT_Model_LossFunction(theta=BDT_Calibrated_Thetas, periods = 20, r0 = r0, yield_curve=yield_curve['Yield'].to_numpy())"
   ]
  },
  {
   "cell_type": "code",
   "execution_count": 84,
   "metadata": {},
   "outputs": [
    {
     "name": "stdout",
     "output_type": "stream",
     "text": [
      "True Optimization terminated successfully.\n"
     ]
    }
   ],
   "source": [
    "BDT_Calibrated_Thetas, BDT_Results = calibration_BDT(yield_curve=yield_curve['Yield'].to_numpy(), periods = 20, sigma = log_vol, r0 = r0)"
   ]
  },
  {
   "cell_type": "markdown",
   "metadata": {},
   "source": [
    "### Testing (based on Veronsi 2011)\n"
   ]
  },
  {
   "cell_type": "code",
   "execution_count": 20,
   "metadata": {},
   "outputs": [],
   "source": [
    "test_maturity = [i * 0.5 for i in range(1,12)]\n",
    "test_price = [99.1338, 97.8925, 96.1462, 94.1011, 91.7136, 89.2258, 86.8142, 84.5016, 82.1848, 79.7718, 77.4339]\n",
    "test_yields = [1.74, 2.13, 2.62, 3.04, 3.46, 3.80, 4.04, 4.21, 4.36, 4.52, 4.65]\n",
    "test_yields = np.array(test_yields) / 100\n",
    "\n",
    "HL_thetas_Veronsi = [0.015675, 0.021824, 0.014374, 0.017324, 0.007873, 0.000423, -0.000628, 0.004322, 0.009271, 0.001202]\n",
    "BDT_thetas_Veronsi = [0.7182, 0.6916, 0.3348, 0.3379, 0.1182, -0.0230, -0.0438, 0.0455, 0.1281, -0.0126]"
   ]
  },
  {
   "cell_type": "markdown",
   "metadata": {},
   "source": [
    "### Ho Lee & BDT Testing"
   ]
  },
  {
   "cell_type": "code",
   "execution_count": 21,
   "metadata": {},
   "outputs": [
    {
     "data": {
      "text/plain": [
       "[np.float64(99.13377354877926),\n",
       " np.float64(97.8925199386555),\n",
       " np.float64(96.1462252342918),\n",
       " np.float64(94.10115336419449),\n",
       " np.float64(91.71356656896344),\n",
       " np.float64(89.22581300642932),\n",
       " np.float64(86.81421561300095),\n",
       " np.float64(84.50159655485554),\n",
       " np.float64(82.1847992420609),\n",
       " np.float64(79.77181542525089),\n",
       " np.float64(77.43389845384934)]"
      ]
     },
     "execution_count": 21,
     "metadata": {},
     "output_type": "execute_result"
    }
   ],
   "source": [
    "#The ZCB prices on Jan 8 2002 yields by HL model is calibrated\n",
    "ZCB_Pricing(binomial_tree=\n",
    "            Building_Tree_HL_BDT(theta = HL_thetas_Veronsi, r0 = 0.0174, number_of_periods=11,\n",
    "                                 pricing_model='HL', volatility=rate_vol))"
   ]
  },
  {
   "cell_type": "code",
   "execution_count": 22,
   "metadata": {},
   "outputs": [
    {
     "data": {
      "text/plain": [
       "[np.float64(99.13377354877926),\n",
       " np.float64(97.89251115240728),\n",
       " np.float64(96.14619487906887),\n",
       " np.float64(94.10112103555397),\n",
       " np.float64(91.71356114129568),\n",
       " np.float64(89.22581444604727),\n",
       " np.float64(86.8142650682546),\n",
       " np.float64(84.50169495072147),\n",
       " np.float64(82.18495319871649),\n",
       " np.float64(79.77198342904671),\n",
       " np.float64(77.43406589895683)]"
      ]
     },
     "execution_count": 22,
     "metadata": {},
     "output_type": "execute_result"
    }
   ],
   "source": [
    "#Same for BDT\n",
    "ZCB_Pricing(binomial_tree=\n",
    "            Building_Tree_HL_BDT(theta = BDT_thetas_Veronsi, r0 = 0.0174, number_of_periods=11,\n",
    "                                 pricing_model='BDT', volatility=log_vol))"
   ]
  },
  {
   "cell_type": "code",
   "execution_count": 56,
   "metadata": {},
   "outputs": [
    {
     "name": "stdout",
     "output_type": "stream",
     "text": [
      "True Optimization terminated successfully.\n",
      "True Optimization terminated successfully.\n"
     ]
    }
   ],
   "source": [
    "#Optimiser to find Thetas work \n",
    "HL_Veronsi_Calibrated_Thetas, HL_V_Result = calibration_HL(yield_curve=test_yields, periods = 11, r0 = 0.0174 )\n",
    "BDT_Veronsi_Calibrated_Thetas, BDT_V_Result = calibration_BDT(yield_curve=test_yields, periods = 11, r0 = 0.0174)"
   ]
  },
  {
   "cell_type": "code",
   "execution_count": 24,
   "metadata": {},
   "outputs": [
    {
     "data": {
      "text/plain": [
       "np.float64(2.777278530248302e-11)"
      ]
     },
     "execution_count": 24,
     "metadata": {},
     "output_type": "execute_result"
    }
   ],
   "source": [
    "#Error Function (MSE) confirms HL model pricing is accurate\n",
    "Ho_Lee_Model_LossFunction(theta = HL_Veronsi_Calibrated_Thetas, periods = 11, r0 = 0.0174, yield_curve=test_yields)"
   ]
  },
  {
   "cell_type": "code",
   "execution_count": 25,
   "metadata": {},
   "outputs": [
    {
     "data": {
      "text/plain": [
       "np.float64(2.3584272854215594e-12)"
      ]
     },
     "execution_count": 25,
     "metadata": {},
     "output_type": "execute_result"
    }
   ],
   "source": [
    "#Error Function also confirms BDT model is accurate\n",
    "BDT_Model_LossFunction(theta = BDT_Veronsi_Calibrated_Thetas, periods = 11, r0 = 0.0174, volatility = log_vol, yield_curve = test_yields)"
   ]
  },
  {
   "cell_type": "markdown",
   "metadata": {},
   "source": [
    "### Chapter 4 Example (MBS)"
   ]
  },
  {
   "cell_type": "markdown",
   "metadata": {},
   "source": [
    "# Monte Carlo"
   ]
  },
  {
   "cell_type": "markdown",
   "metadata": {},
   "source": [
    "### Interest Rate MC (Qd)"
   ]
  },
  {
   "cell_type": "code",
   "execution_count": 21,
   "metadata": {},
   "outputs": [],
   "source": [
    "N = 100000\n",
    "def monte_carlo_simulation(tree, paths=N):\n",
    "    #Create simulation table (number of periods x number of simulations)\n",
    "    simulation = np.zeros([paths, tree.shape[0]])\n",
    "    #Set the initial node to interest rate at i = 0\n",
    "    simulation[:, 0] = tree[0,0]\n",
    "    #Loop over each simulation\n",
    "    for path in range(0, simulation.shape[0]):\n",
    "        rate = 0\n",
    "        p = 0\n",
    "        counter = 0\n",
    "\n",
    "        for period in range(1, simulation.shape[1]):\n",
    "            p = np.random.rand() #Random engine\n",
    "\n",
    "            if p > 0.5: #Up move \n",
    "                simulation[path, period] = tree[rate, counter + 1]\n",
    "                rate = rate\n",
    "                counter += 1\n",
    "            else:\n",
    "                simulation[path, period] = tree[rate, counter + 1]\n",
    "                rate = rate + 1\n",
    "                counter += 1\n",
    "    \n",
    "    return simulation"
   ]
  },
  {
   "cell_type": "code",
   "execution_count": 26,
   "metadata": {},
   "outputs": [],
   "source": [
    "#BDT Monte Carlo Simulation of Interest Rate Tree\n",
    "MC_BDT = pd.DataFrame(monte_carlo_simulation(tree = BDT_Tree))\n",
    "#Ho-Lee Monte Carlo Simulation of Interest Rate Tree\n",
    "MC_HL = pd.DataFrame(monte_carlo_simulation(tree = Ho_Lee_Tree))\n"
   ]
  },
  {
   "cell_type": "code",
   "execution_count": null,
   "metadata": {},
   "outputs": [],
   "source": [
    "#Index and Columns\n",
    "MC_BDT.index = np.arange(0, N)\n",
    "MC_BDT.index.name = 'Simulations'\n",
    "MC_BDT.columns.name = 'Period'\n",
    "MC_HL.index = np.arange(0, N)\n",
    "MC_HL.index.name = 'Simulations'\n",
    "MC_HL.columns.name = 'Periods'\n",
    "#Interest Rate Realisations at i = 20\n",
    "MC_BDT_Realisations = MC_BDT.iloc[:, -1]\n",
    "MC_HL_Realisations = MC_HL.iloc[:, -1]"
   ]
  },
  {
   "cell_type": "code",
   "execution_count": 36,
   "metadata": {},
   "outputs": [
    {
     "data": {
      "text/plain": [
       "<Axes: title={'center': 'Ho-Lee : Monte Carlo Simulation of 100000 Runs'}, xlabel='Interest Rate', ylabel='Number of Occurences'>"
      ]
     },
     "execution_count": 36,
     "metadata": {},
     "output_type": "execute_result"
    },
    {
     "data": {
      "image/png": "[encoded data removed]",
      "text/plain": [
       "<Figure size 1800x1200 with 1 Axes>"
      ]
     },
     "metadata": {},
     "output_type": "display_data"
    }
   ],
   "source": [
    "MC_HL_Realisations.plot.hist(\n",
    "    figsize = (18, 12),\n",
    "    xlabel = 'Interest Rate',\n",
    "    ylabel= 'Number of Occurences',\n",
    "    bins=150,\n",
    "    title = f'Ho-Lee : Monte Carlo Simulation of {N} Runs')"
   ]
  },
  {
   "cell_type": "code",
   "execution_count": 37,
   "metadata": {},
   "outputs": [
    {
     "data": {
      "text/plain": [
       "<Axes: title={'center': 'Monte Carlo Simulation of 100000 Runs'}, xlabel='Interest Rate', ylabel='Number of Occurences'>"
      ]
     },
     "execution_count": 37,
     "metadata": {},
     "output_type": "execute_result"
    },
    {
     "data": {
      "image/png": "[encoded data removed]",
      "text/plain": [
       "<Figure size 1800x1200 with 1 Axes>"
      ]
     },
     "metadata": {},
     "output_type": "display_data"
    }
   ],
   "source": [
    "MC_BDT_Realisations.plot.hist(\n",
    "    figsize = (18, 12),\n",
    "    xlabel = 'Interest Rate',\n",
    "    ylabel= 'Number of Occurences',\n",
    "    bins=150,\n",
    "    title = f'Monte Carlo Simulation of {N} Runs')"
   ]
  },
  {
   "cell_type": "markdown",
   "metadata": {},
   "source": [
    "### Fixed Mortgage MC (Qe)"
   ]
  },
  {
   "cell_type": "code",
   "execution_count": 78,
   "metadata": {},
   "outputs": [],
   "source": [
    "N = 100000\n",
    "BDT_Mortgage_Tree_Prepay_Option, BDT_Mortgage_Tree_NoPrepay = mortgage_value_prepay(rate = BDT_Par_Rate, periods = 19, binomial_tree=BDT_Tree)\n",
    "Bx, interest_paid, principal_paid, outstanding_principal, coupon = mortgage_value_no_prepay(rate = BDT_Par_Rate, periods = 19, binomial_tree=BDT_Tree)"
   ]
  },
  {
   "cell_type": "code",
   "execution_count": 79,
   "metadata": {},
   "outputs": [],
   "source": [
    "def monte_carlo_simulation_Mortgage(\n",
    "        mortgage_tree_prepay=BDT_Mortgage_Tree_Prepay_Option,\n",
    "        mortgage_tree_no_prepay = BDT_Mortgage_Tree_NoPrepay,\n",
    "        interest_schedule = interest_paid,\n",
    "        principal_schedule = principal_paid,\n",
    "        interest_rate_tree=BDT_Tree,\n",
    "        balance = outstanding_principal,\n",
    "        paths=100000, dt = dt):\n",
    "    \n",
    "    ''' Discount the mortgage's cash flows which is interest and principal payments (along\n",
    "    with early repayment)\n",
    "    -----------------\n",
    "    interest_schedule : 4th element corresponds to interest paid in 4th period \n",
    "    principal_schedule : same as^^\n",
    "    outstanding_principal : 3rd element corresponds to balance BEFORE i = 3\n",
    "\n",
    "    -----------------\n",
    "    Will need to have 2 simulations - one for the prepay and one for without prepay \n",
    "    for comparison\n",
    "    '''\n",
    "    #Creating initial simulation matrices\n",
    "    periods = mortgage_tree_no_prepay.shape[0]\n",
    "    simulation_no_prepay = np.zeros([paths, periods+1])\n",
    "    simulation_prepay = np.zeros([paths, periods+1])\n",
    "    #Store coefficients => Log-Sum-Exp trick to overcome underflow error\n",
    "    log_discount_factor = np.zeros([paths, periods])\n",
    "\n",
    "    for path in range(paths):\n",
    "        state = 0\n",
    "        log_discount_factor[path, 0] = 0 #log(1) = 0\n",
    "        break_loop = False \n",
    "        for period in range(1, periods): #Loops over periods from i = 0 to T\n",
    "\n",
    "            #Step 1. Random Engine to simulate up or down move\n",
    "            p = np.random.rand()\n",
    "            if p > 0.5: #Up move (j)\n",
    "                pass\n",
    "            else: #Down Move (j + 1)\n",
    "                state = state + 1\n",
    "\n",
    "            \n",
    "            #Step 1. Total Cash Flow of Contract\n",
    "            total_cash_flows = interest_schedule[period] + principal_schedule[period] #Sums total cash flows to be discounted for each period\n",
    "            #Step 2. Calculate and apply discount factor to cash flows up to this period\n",
    "            log_discount_factor[path, period] = log_discount_factor[path, period - 1] - dt*interest_rate_tree[state, period]\n",
    "\n",
    "            #Step 2a. Expontentiate discount factor \n",
    "            simulation_no_prepay[path, period] = total_cash_flows * np.exp(log_discount_factor[path, period])\n",
    " \n",
    "            #Prepayment Option Stuff\n",
    "            mortgage_value = mortgage_tree_prepay[state, period]\n",
    "\n",
    "            #Note : prepayment logic \n",
    "            if break_loop == False:\n",
    "                if mortgage_value == 0:\n",
    "                    break_loop = True\n",
    "                    simulation_prepay[path, period] = balance[period-1] * np.exp(log_discount_factor[path, period])\n",
    "                else:\n",
    "                    simulation_prepay[path, period] = total_cash_flows * np.exp(log_discount_factor[path, period])\n",
    "            \n",
    "\n",
    "    return simulation_no_prepay, simulation_prepay, log_discount_factor\n",
    "    "
   ]
  },
  {
   "cell_type": "code",
   "execution_count": 80,
   "metadata": {},
   "outputs": [],
   "source": [
    "#Running the MC at BDT Par Rate\n",
    "sim_no_prepay, sim_prepay, df = monte_carlo_simulation_Mortgage(paths = N)"
   ]
  },
  {
   "cell_type": "code",
   "execution_count": 81,
   "metadata": {},
   "outputs": [
    {
     "data": {
      "text/plain": [
       "np.float64(108357.86119476236)"
      ]
     },
     "execution_count": 81,
     "metadata": {},
     "output_type": "execute_result"
    }
   ],
   "source": [
    "#Analytical Solution via Backward Induction \n",
    "BDT_Mortgage_Tree_NoPrepay[0,0] "
   ]
  },
  {
   "cell_type": "code",
   "execution_count": 82,
   "metadata": {},
   "outputs": [
    {
     "data": {
      "text/plain": [
       "np.float64(108818.87807483751)"
      ]
     },
     "execution_count": 82,
     "metadata": {},
     "output_type": "execute_result"
    }
   ],
   "source": [
    "#MC Result of Mortgage Contract without Prepay Option\n",
    "MC_Sim_Optimal_No_Prepay = np.mean(sim_no_prepay, axis = 0).sum() \n",
    "MC_Sim_Optimal_No_Prepay"
   ]
  },
  {
   "cell_type": "code",
   "execution_count": 83,
   "metadata": {},
   "outputs": [
    {
     "data": {
      "text/plain": [
       "np.float64(8357.861194762358)"
      ]
     },
     "execution_count": 83,
     "metadata": {},
     "output_type": "execute_result"
    }
   ],
   "source": [
    "#Analytical Solution of Prepay Option \n",
    "BDT_Mortgage_Tree_Prepay_Option[0,0]"
   ]
  },
  {
   "cell_type": "code",
   "execution_count": 84,
   "metadata": {},
   "outputs": [
    {
     "data": {
      "text/plain": [
       "np.float64(8742.58687024354)"
      ]
     },
     "execution_count": 84,
     "metadata": {},
     "output_type": "execute_result"
    }
   ],
   "source": [
    "#MC Result of the Value of the Option\n",
    "MC_Sim_Optimal_Option_Value = np.mean(sim_prepay, axis = 0).sum() - 100000\n",
    "MC_Sim_Optimal_Option_Value"
   ]
  },
  {
   "cell_type": "code",
   "execution_count": 94,
   "metadata": {},
   "outputs": [
    {
     "data": {
      "text/plain": [
       "np.float64(-76.29120459397382)"
      ]
     },
     "execution_count": 94,
     "metadata": {},
     "output_type": "execute_result"
    }
   ],
   "source": [
    "#MC Result of the Value of the Fixed Rate Mortgage (we expect this to be close to 0)\n",
    "MC_Sim_Optimal_Contract_Value = np.mean(sim_prepay, axis = 0).sum() - MC_Sim_Optimal_No_Prepay\n",
    "MC_Sim_Optimal_Contract_Value"
   ]
  },
  {
   "cell_type": "code",
   "execution_count": 91,
   "metadata": {},
   "outputs": [
    {
     "name": "stdout",
     "output_type": "stream",
     "text": [
      "Confidence Interval for No Prepay: [np.float64(108807.71013423936), np.float64(108830.04601543567)] \n",
      "Confidence Interval for Prepay:  [np.float64(8707.768394914863), np.float64(8777.405345572217)] \n",
      "Confidence Interval for Overall Contract Value:  [np.float64(-99.94173932449485), np.float64(-52.640669863452786)]\n"
     ]
    }
   ],
   "source": [
    "#Confidence Interval of Mortgage Contract (no prepay)\n",
    "SE_Optimal_No_Prepay = np.std(sim_no_prepay) / np.sqrt(N)\n",
    "ConfidenceInterval_Optimal_No_Prepay = [np.mean(sim_no_prepay, axis = 0).sum() - 1.96* SE_Optimal_No_Prepay, np.mean(sim_no_prepay, axis = 0).sum() + 1.96* SE_Optimal_No_Prepay]\n",
    "\n",
    "#Confidence Interval of value of the Option to prepay \n",
    "SE_Optimal_Option = np.std(sim_prepay.sum(axis=1) - 100000) / np.sqrt(N)\n",
    "ConfidenceInterval_Optimal_Option = [np.mean(sim_prepay, axis = 0).sum() - 1.96 * SE_Optimal_Option - 100000, np.mean(sim_prepay, axis = 0).sum() + 1.96 * SE_Optimal_Option - 100000]\n",
    "\n",
    "print('Confidence Interval for No Prepay:', ConfidenceInterval_Optimal_No_Prepay,\n",
    "      '\\nConfidence Interval for Prepay: ', ConfidenceInterval_Optimal_Option,\n",
    "      '\\nConfidence Interval for Overall Contract Value: ', [ConfidenceInterval_Optimal_Option[i] - ConfidenceInterval_Optimal_No_Prepay[i] + 100000 for i in range(2)])\n"
   ]
  },
  {
   "cell_type": "markdown",
   "metadata": {},
   "source": [
    "### Suboptimal Prepayment\n",
    "\n"
   ]
  },
  {
   "cell_type": "code",
   "execution_count": 95,
   "metadata": {},
   "outputs": [],
   "source": [
    "def monte_carlo_suboptimal_prepay(\n",
    "        mortgage_tree_prepay=BDT_Mortgage_Tree_Prepay_Option,\n",
    "        mortgage_tree_no_prepay = BDT_Mortgage_Tree_NoPrepay,\n",
    "        interest_schedule = interest_paid,\n",
    "        principal_schedule = principal_paid,\n",
    "        interest_rate_tree=BDT_Tree,\n",
    "        balance = outstanding_principal,\n",
    "        paths=10000, dt = dt):\n",
    "    \n",
    "    #Creating initial simulation matrices\n",
    "    periods = mortgage_tree_no_prepay.shape[0]\n",
    "    simulation_no_prepay = np.zeros([paths, periods+1])\n",
    "    simulation_prepay = np.zeros([paths, periods+1])\n",
    "    #Store coefficients => Log-Sum-Exp trick to overcome underflow error\n",
    "    log_discount_factor = np.zeros([paths, periods])\n",
    "\n",
    "    for path in range(paths):\n",
    "        state = 0\n",
    "        log_discount_factor[path, 0] = 0 #log(1) = 0\n",
    "        season_index = 1\n",
    "        break_loop = False \n",
    "        for period in range(1, periods): #Loops over periods from i = 0 to T\n",
    "\n",
    "            #Set-up Suboptimal prepayment conditions/rules\n",
    "\n",
    "            Conditional_Prepayment_Rate  = min( 12 * period * dt * 0.2, 0.6)\n",
    "            if period % 2 == 0:\n",
    "                season_index = 2\n",
    "            else:\n",
    "                season_index = 1\n",
    "\n",
    "            probability_prepay = season_index * (1- (1-(0.5*Conditional_Prepayment_Rate))**dt)\n",
    "\n",
    "\n",
    "\n",
    "            #Step 1. Random Engine to simulate up or down move\n",
    "            p = np.random.rand()\n",
    "            if p > 0.5: #Up move (j)\n",
    "                pass\n",
    "            else: #Down Move (j + 1)\n",
    "                state = state + 1\n",
    "\n",
    "            \n",
    "            #Step 1. Total Cash Flow of Contract\n",
    "            total_cash_flows = interest_schedule[period] + principal_schedule[period] #Sums total cash flows to be discounted for each period\n",
    "            #Step 2. Calculate and apply discount factor to cash flows up to this period\n",
    "            log_discount_factor[path, period] = log_discount_factor[path, period - 1] - dt*interest_rate_tree[state, period]\n",
    "\n",
    "            #Step 2a. Expontentiate discount factor \n",
    "            simulation_no_prepay[path, period] = total_cash_flows * np.exp(log_discount_factor[path, period])\n",
    " \n",
    "            #Prepayment Option Stuff\n",
    "            mortgage_value = mortgage_tree_prepay[state, period]\n",
    "\n",
    "            #Note : prepayment logic \n",
    "            if break_loop == False:\n",
    "                if mortgage_value == 0:\n",
    "                    #Set-up Suboptimal non-prepayment conditions/rules\n",
    "                    probability_no_prepay = 1 * np.exp(-0 * interest_rate_tree[state, period])\n",
    "                    #Suboptimal no prepayment\n",
    "                    if p < probability_no_prepay:\n",
    "                        #print(probability_no_prepay, p, 'no prepay')\n",
    "                        break_loop = True\n",
    "                        simulation_prepay[path, period] = balance[period-1] * np.exp(log_discount_factor[path, period])\n",
    "                    else:\n",
    "                        simulation_prepay[path, period] = total_cash_flows * np.exp(log_discount_factor[path, period])\n",
    "                else:\n",
    "                    #Suboptimal Prepayment\n",
    "                    if probability_prepay > p:\n",
    "                        break_loop = True\n",
    "                        #print('probability prepay', p, probability_prepay)\n",
    "                        #simulation_prepay[path, period] = total_cash_flows * np.exp(log_discount_factor[path, period])\n",
    "                        simulation_prepay[path, period] = balance[period -1] * np.exp(log_discount_factor[path, period])\n",
    "                    else:\n",
    "                        simulation_prepay[path, period] = total_cash_flows * np.exp(log_discount_factor[path, period])\n",
    "\n",
    "    return simulation_no_prepay, simulation_prepay, log_discount_factor\n",
    "    "
   ]
  },
  {
   "cell_type": "code",
   "execution_count": 96,
   "metadata": {},
   "outputs": [],
   "source": [
    "N = 100000\n",
    "sim_suboptimal_no_prepay, sim_suboptimal_prepay, sim_suboptimal_df = monte_carlo_suboptimal_prepay(paths = N)"
   ]
  },
  {
   "cell_type": "code",
   "execution_count": 97,
   "metadata": {},
   "outputs": [
    {
     "name": "stdout",
     "output_type": "stream",
     "text": [
      "Confidence Interval for No Prepay: [np.float64(100095.68989600829), np.float64(100312.59133575702)] \n",
      "Confidence Interval for Prepay:  [np.float64(8707.768394914863), np.float64(8777.405345572217)] \n",
      "Confidence Interval for Overall Contract Value:  [np.float64(-8612.078498906572), np.float64(-8464.814009815193)]\n"
     ]
    }
   ],
   "source": [
    "#Value of the fixed rate contract with no option to prepay\n",
    "MC_Sim_Suboptimal_No_Prepay_Value = sim_suboptimal_no_prepay.sum(axis=1).mean()\n",
    "#Value of mortgage contract under suboptimal prepayment assumptions\n",
    "MC_Sim_Suboptimal_Prepay_Value = sim_suboptimal_prepay.sum(axis=1).mean()\n",
    "#Value of the option to prepay under suboptimal prepayment assumptions\n",
    "MC_Sim_Suboptimal_Option_Value = -MC_Sim_Suboptimal_No_Prepay_Value + MC_Sim_Suboptimal_Prepay_Value\n",
    "\n",
    "#Conf. Interval for the Value of Mortgage Contract with Prepayment Option (to UBS)\n",
    "SE_suboptimal_prepay = np.std(sim_suboptimal_prepay) / np.sqrt(N)\n",
    "ConfidenceInterval_suboptimal_prepay = [ MC_Sim_Suboptimal_Prepay_Value- 1.96*SE_suboptimal_prepay, MC_Sim_Suboptimal_Prepay_Value + 1.96*SE_suboptimal_prepay] \n",
    "\n",
    "print('Confidence Interval for No Prepay:', ConfidenceInterval_suboptimal_prepay,\n",
    "      '\\nConfidence Interval for Prepay: ', ConfidenceInterval_Optimal_Option,\n",
    "      '\\nConfidence Interval for Overall Contract Value: ', [ConfidenceInterval_suboptimal_prepay[i] - ConfidenceInterval_Optimal_Option[i] - 100000 for i in range(2)])\n"
   ]
  },
  {
   "cell_type": "markdown",
   "metadata": {},
   "source": [
    "Prepaying and not prepaying despite it being optimal to do so would increase the value of the contract for the bank. If a homeowner decides to prepay despite the remaining principal balance is larger than what it would cost to hold the mortgage decreases the value of the option in their hands, thus increasing the value for UBS. \n",
    "\n",
    "Comparing with optimal refinancing MC simulations, we can compare the value of option under optimal refinancing policy of ~$6,600 which as expected brings the overall contract to par. In comparison, the value of the option under suboptimal refinancing policies is actually negative. This is intuitive, as given the prior values for the optimal case was calculated based on the par rate, any financing policies that is suboptimal would be beneficial for the bank.\n"
   ]
  },
  {
   "cell_type": "code",
   "execution_count": 101,
   "metadata": {},
   "outputs": [
    {
     "data": {
      "text/plain": [
       "np.float64(100204.14061588266)"
      ]
     },
     "execution_count": 101,
     "metadata": {},
     "output_type": "execute_result"
    }
   ],
   "source": [
    "MC_Sim_Suboptimal_Prepay_Value"
   ]
  },
  {
   "cell_type": "code",
   "execution_count": 100,
   "metadata": {},
   "outputs": [
    {
     "data": {
      "text/plain": [
       "np.float64(-8592.067151915704)"
      ]
     },
     "execution_count": 100,
     "metadata": {},
     "output_type": "execute_result"
    }
   ],
   "source": [
    "MC_Sim_Suboptimal_Option_Value"
   ]
  },
  {
   "cell_type": "markdown",
   "metadata": {},
   "source": [
    "### MBS "
   ]
  },
  {
   "cell_type": "code",
   "execution_count": 314,
   "metadata": {},
   "outputs": [
    {
     "data": {
      "text/plain": [
       "np.float64(0.04496000000000152)"
      ]
     },
     "execution_count": 314,
     "metadata": {},
     "output_type": "execute_result"
    }
   ],
   "source": [
    "BDT_PO_Price\n",
    "BDT_IO_Price\n",
    "BDT_PTS_Pricing\n",
    "BDT_Par_Rate\n",
    "BDT_PTS_Rate"
   ]
  },
  {
   "cell_type": "code",
   "execution_count": 334,
   "metadata": {},
   "outputs": [],
   "source": [
    "PTS_BDT_Interest_Schedule, PTS_BDT_Principal_Schedule, PTS_BDT_Outstanding_Balance, PTS_BDT_Coupon = PTS_mortgage_amortisation_schedule(rate = BDT_Par_Rate, pass_through_rate=BDT_PTS_Rate, N = 20, principal = 100000)\n",
    "PTS_ValueTree, IO_ValueTree, PO_ValueTree = PTS_Value_Tree(rate = BDT_Par_Rate, pass_through_rate= BDT_PTS_Rate, binomial_tree=BDT_Tree, periods = 20)"
   ]
  },
  {
   "cell_type": "code",
   "execution_count": 336,
   "metadata": {},
   "outputs": [],
   "source": [
    "def monte_carlo_simulation_PTS(\n",
    "        PTS_Tree = PTS_ValueTree,\n",
    "        IO_Tree = IO_ValueTree,\n",
    "        PO_Tree = PO_ValueTree,\n",
    "        interest_schedule = PTS_BDT_Interest_Schedule,\n",
    "        principal_schedule = PTS_BDT_Principal_Schedule,\n",
    "        outstanding_balance = PTS_BDT_Outstanding_Balance, \n",
    "        paths=10000, dt=dt, interest_tree=BDT_Tree):\n",
    "    \n",
    "    return PTS_Tree\n"
   ]
  }
 ],
 "metadata": {
  "kernelspec": {
   "display_name": "Python 3",
   "language": "python",
   "name": "python3"
  },
  "language_info": {
   "codemirror_mode": {
    "name": "ipython",
    "version": 3
   },
   "file_extension": ".py",
   "mimetype": "text/x-python",
   "name": "python",
   "nbconvert_exporter": "python",
   "pygments_lexer": "ipython3",
   "version": "3.9.6"
  }
 },
 "nbformat": 4,
 "nbformat_minor": 2
}
